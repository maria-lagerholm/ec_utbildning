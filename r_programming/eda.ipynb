{
 "cells": [
  {
   "cell_type": "code",
   "execution_count": 2,
   "metadata": {},
   "outputs": [],
   "source": [
    "import os"
   ]
  },
  {
   "cell_type": "code",
   "execution_count": 116,
   "metadata": {},
   "outputs": [
    {
     "name": "stdout",
     "output_type": "stream",
     "text": [
      "Folders without handelsbeteckning.txt:\n"
     ]
    }
   ],
   "source": [
    "def list_folders_without_handelsbeteckning():\n",
    "    folders_without_handelsbeteckning = []\n",
    "    for folder in os.listdir(\"cars\"):\n",
    "        folder_path = os.path.join(\"cars\", folder)\n",
    "        if not os.path.isdir(folder_path):\n",
    "            continue\n",
    "\n",
    "        handelsbeteckning_file = os.path.join(folder_path, \"handelsbeteckning.txt\")\n",
    "        if not os.path.exists(handelsbeteckning_file):\n",
    "            folders_without_handelsbeteckning.append(folder)\n",
    "\n",
    "    return folders_without_handelsbeteckning\n",
    "\n",
    "# Example usage\n",
    "folders_without_handelsbeteckning = list_folders_without_handelsbeteckning()\n",
    "print(\"Folders without handelsbeteckning.txt:\")\n",
    "for folder in folders_without_handelsbeteckning:\n",
    "    print(folder)\n"
   ]
  },
  {
   "cell_type": "markdown",
   "metadata": {},
   "source": [
    "Forsakring"
   ]
  },
  {
   "cell_type": "code",
   "execution_count": 117,
   "metadata": {},
   "outputs": [
    {
     "name": "stdout",
     "output_type": "stream",
     "text": [
      "Number of folders without forsakring.txt: 0\n"
     ]
    }
   ],
   "source": [
    "def count_folders_without_forsakring():\n",
    "    count = 0\n",
    "    for folder in os.listdir(\"cars\"):\n",
    "        folder_path = os.path.join(\"cars\", folder)\n",
    "        if not os.path.isdir(folder_path):\n",
    "            continue\n",
    "\n",
    "        forsakring_file = os.path.join(folder_path, \"forsakring.txt\")\n",
    "        if not os.path.exists(forsakring_file):\n",
    "            count += 1\n",
    "\n",
    "    return count\n",
    "\n",
    "# Example usage\n",
    "folders_without_forsakring = count_folders_without_forsakring()\n",
    "print(f\"Number of folders without forsakring.txt: {folders_without_forsakring}\")\n"
   ]
  },
  {
   "cell_type": "code",
   "execution_count": 93,
   "metadata": {},
   "outputs": [
    {
     "name": "stdout",
     "output_type": "stream",
     "text": [
      "Number of folders with forsakring.txt containing a single digit: 0\n",
      "Folders:\n"
     ]
    }
   ],
   "source": [
    "def count_folders_with_forsakring_one_digit():\n",
    "    count = 0\n",
    "    folders = []\n",
    "    for folder in os.listdir(\"cars\"):\n",
    "        folder_path = os.path.join(\"cars\", folder)\n",
    "        if not os.path.isdir(folder_path):\n",
    "            continue\n",
    "\n",
    "        forsakring_file = os.path.join(folder_path, \"forsakring.txt\")\n",
    "        if os.path.exists(forsakring_file):\n",
    "            with open(forsakring_file, 'r') as file:\n",
    "                content = file.read().strip()\n",
    "                if content.isdigit() and len(content) == 1:\n",
    "                    count += 1\n",
    "                    folders.append(folder)\n",
    "\n",
    "    return count, folders\n",
    "\n",
    "# Example usage\n",
    "folders_with_forsakring_one_digit, folder_list = count_folders_with_forsakring_one_digit()\n",
    "print(f\"Number of folders with forsakring.txt containing a single digit: {folders_with_forsakring_one_digit}\")\n",
    "print(\"Folders:\")\n",
    "for folder in folder_list:\n",
    "    print(folder)\n"
   ]
  },
  {
   "cell_type": "markdown",
   "metadata": {},
   "source": [
    "fuel"
   ]
  },
  {
   "cell_type": "code",
   "execution_count": 92,
   "metadata": {},
   "outputs": [
    {
     "name": "stdout",
     "output_type": "stream",
     "text": [
      "Number of folders without both brbr.txt and enbr.txt: 0\n"
     ]
    }
   ],
   "source": [
    "import shutil\n",
    "\n",
    "def count_and_remove_folders_without_brbr_and_enbr():\n",
    "    count = 0\n",
    "    for folder in os.listdir(\"cars\"):\n",
    "        folder_path = os.path.join(\"cars\", folder)\n",
    "        if not os.path.isdir(folder_path):\n",
    "            continue\n",
    "\n",
    "        brbr_file = os.path.join(folder_path, \"brbr.txt\")\n",
    "        enbr_file = os.path.join(folder_path, \"enbr.txt\")\n",
    "        if not os.path.exists(brbr_file) and not os.path.exists(enbr_file):\n",
    "            count += 1\n",
    "            shutil.rmtree(folder_path)\n",
    "\n",
    "    return count\n",
    "\n",
    "# Example usage\n",
    "folders_without_brbr_and_enbr = count_and_remove_folders_without_brbr_and_enbr()\n",
    "print(f\"Number of folders without both brbr.txt and enbr.txt: {folders_without_brbr_and_enbr}\")\n"
   ]
  },
  {
   "cell_type": "markdown",
   "metadata": {},
   "source": [
    "el bilar "
   ]
  },
  {
   "cell_type": "code",
   "execution_count": 88,
   "metadata": {},
   "outputs": [
    {
     "name": "stdout",
     "output_type": "stream",
     "text": [
      "Number of folders with biltyp.txt containing exactly 'El': 55\n"
     ]
    }
   ],
   "source": [
    "def count_folders_with_biltyp_two_letter_el():\n",
    "    count = 0\n",
    "    for folder in os.listdir(\"cars\"):\n",
    "        folder_path = os.path.join(\"cars\", folder)\n",
    "        if not os.path.isdir(folder_path):\n",
    "            continue\n",
    "\n",
    "        biltyp_file = os.path.join(folder_path, \"Bränsle.txt\")\n",
    "        if os.path.exists(biltyp_file):\n",
    "            with open(biltyp_file, 'r') as file:\n",
    "                content = file.read().strip()\n",
    "                if content == 'El':\n",
    "                    count += 1\n",
    "\n",
    "    return count\n",
    "\n",
    "# Example usage\n",
    "folders_with_biltyp_two_letter_el = count_folders_with_biltyp_two_letter_el()\n",
    "print(f\"Number of folders with biltyp.txt containing exactly 'El': {folders_with_biltyp_two_letter_el}\")\n"
   ]
  },
  {
   "cell_type": "code",
   "execution_count": 82,
   "metadata": {},
   "outputs": [
    {
     "name": "stdout",
     "output_type": "stream",
     "text": [
      "Number of folders with el bilar brbr.txt containing '0': 55\n"
     ]
    }
   ],
   "source": [
    "def count_folders_with_brbr_zero_content():\n",
    "    count = 0\n",
    "    for folder in os.listdir(\"cars\"):\n",
    "        folder_path = os.path.join(\"cars\", folder)\n",
    "        if not os.path.isdir(folder_path):\n",
    "            continue\n",
    "\n",
    "        brbr_file = os.path.join(folder_path, \"brbr.txt\")\n",
    "        if os.path.exists(brbr_file):\n",
    "            with open(brbr_file, 'r') as file:\n",
    "                content = file.read().strip()\n",
    "                if content == '0':\n",
    "                    count += 1\n",
    "\n",
    "    return count\n",
    "\n",
    "# Example usage\n",
    "folders_with_brbr_zero_content = count_folders_with_brbr_zero_content()\n",
    "print(f\"Number of folders with el bilar brbr.txt containing '0': {folders_with_brbr_zero_content}\")\n"
   ]
  },
  {
   "cell_type": "code",
   "execution_count": 84,
   "metadata": {},
   "outputs": [
    {
     "name": "stdout",
     "output_type": "stream",
     "text": [
      "Folders where Bränsle.txt is exactly 'El' but brbr.txt is not '0': []\n"
     ]
    }
   ],
   "source": [
    "def folders_with_biltyp_el_and_brbr_not_zero():\n",
    "    folders = []\n",
    "    for folder in os.listdir(\"cars\"):\n",
    "        folder_path = os.path.join(\"cars\", folder)\n",
    "        if not os.path.isdir(folder_path):\n",
    "            continue\n",
    "\n",
    "        biltyp_file = os.path.join(folder_path, \"Bränsle.txt\")\n",
    "        brbr_file = os.path.join(folder_path, \"brbr.txt\")\n",
    "        if os.path.exists(biltyp_file) and os.path.exists(brbr_file):\n",
    "            with open(biltyp_file, 'r') as biltyp, open(brbr_file, 'r') as brbr:\n",
    "                biltyp_content = biltyp.read().strip()\n",
    "                brbr_content = brbr.read().strip()\n",
    "                if biltyp_content == 'El' and brbr_content != '0':\n",
    "                    folders.append(folder)\n",
    "\n",
    "    return folders\n",
    "\n",
    "# Example usage\n",
    "folders = folders_with_biltyp_el_and_brbr_not_zero()\n",
    "print(f\"Folders where Bränsle.txt is exactly 'El' but brbr.txt is not '0': {folders}\")\n"
   ]
  },
  {
   "cell_type": "markdown",
   "metadata": {},
   "source": [
    "energi konsump for el bilar"
   ]
  },
  {
   "cell_type": "code",
   "execution_count": 85,
   "metadata": {},
   "outputs": [
    {
     "name": "stdout",
     "output_type": "stream",
     "text": [
      "Number of folders with matchad el konsumtion enbr.txt: 55\n"
     ]
    }
   ],
   "source": [
    "def count_folders_with_enbr():\n",
    "    count = 0\n",
    "    for folder in os.listdir(\"cars\"):\n",
    "        folder_path = os.path.join(\"cars\", folder)\n",
    "        if not os.path.isdir(folder_path):\n",
    "            continue\n",
    "\n",
    "        enbr_file = os.path.join(folder_path, \"enbr.txt\")\n",
    "        if os.path.exists(enbr_file):\n",
    "            count += 1\n",
    "\n",
    "    return count\n",
    "\n",
    "# Example usage\n",
    "folders_with_enbr = count_folders_with_enbr()\n",
    "print(f\"Number of folders with matchad el konsumtion enbr.txt: {folders_with_enbr}\")\n"
   ]
  },
  {
   "cell_type": "code",
   "execution_count": 86,
   "metadata": {},
   "outputs": [],
   "source": [
    "def folders_with_brbr_zero_without_enbr():\n",
    "    folders = []\n",
    "    for folder in os.listdir(\"cars\"):\n",
    "        folder_path = os.path.join(\"cars\", folder)\n",
    "        if not os.path.isdir(folder_path):\n",
    "            continue\n",
    "\n",
    "        brbr_file = os.path.join(folder_path, \"brbr.txt\")\n",
    "        enbr_file = os.path.join(folder_path, \"enbr.txt\")\n",
    "        if os.path.exists(brbr_file) and not os.path.exists(enbr_file):\n",
    "            with open(brbr_file, 'r') as file:\n",
    "                content = file.read().strip()\n",
    "                if content == '0':\n",
    "                    folders.append(folder)\n",
    "\n",
    "    return folders\n",
    "\n",
    "# Example usage\n",
    "folders = folders_with_brbr_zero_without_enbr()\n",
    "for folder in folders:\n",
    "    print(folder)\n"
   ]
  },
  {
   "cell_type": "code",
   "execution_count": 87,
   "metadata": {},
   "outputs": [
    {
     "name": "stdout",
     "output_type": "stream",
     "text": [
      "Number of folders without namn.txt: 0\n"
     ]
    }
   ],
   "source": [
    "def count_folders_without_namn():\n",
    "    count = 0\n",
    "    folders = []\n",
    "    for folder in os.listdir(\"cars\"):\n",
    "        folder_path = os.path.join(\"cars\", folder)\n",
    "        if not os.path.isdir(folder_path):\n",
    "            continue\n",
    "\n",
    "        namn_file = os.path.join(folder_path, \"namn.txt\")\n",
    "        if not os.path.exists(namn_file):\n",
    "            count += 1\n",
    "            folders.append(folder)\n",
    "\n",
    "    return count, folders\n",
    "\n",
    "# Example usage\n",
    "count, folders_without_namn = count_folders_without_namn()\n",
    "print(f\"Number of folders without namn.txt: {count}\")\n",
    "for folder in folders_without_namn:\n",
    "    print(folder)\n"
   ]
  },
  {
   "cell_type": "code",
   "execution_count": 123,
   "metadata": {},
   "outputs": [
    {
     "name": "stdout",
     "output_type": "stream",
     "text": [
      "+------------------------------------------------------------+--------------------+---------------------+-----------------------+--------------------------+---------------------+---------------------------+---------------+-------------+-----------------------+------------+-----------------------------------+----------------------------------------+-----------------------------+-------------+------------------------------------------+\n",
      "| Annons                                                     | Fordonsbenämning   | Handelsbeteckning   | Registreringsnummer   |   Fordonsskatt (kr / år) | Bränsle             |   Helförsäkring (kr / år) |   Hästkrafter | Biltyp      |   Mätarställning (km) |   Modellår |   Bränsleförbrukning (l / 100 km) |   Koldioxidutsläpp blandad (NEDC) g/km |   Energiförbrukning (Wh/km) |   Pris (kr) | Url                                      |\n",
      "|------------------------------------------------------------+--------------------+---------------------+-----------------------+--------------------------+---------------------+---------------------------+---------------+-------------+-----------------------+------------+-----------------------------------+----------------------------------------+-----------------------------+-------------+------------------------------------------|\n",
      "| Volkswagen                                                 | VOLKSWAGEN T-ROC   | T-ROC               | TNG159                |                      536 | Miljöbränsle/Hybrid |                      3264 |           111 | Halvkombi   |                 90000 |       2018 |                               5.2 |                                    119 |                         nan |      135000 | https://www.blocket.se/annons/1401704097 |\n",
      "| Ford Kuga 2.0 TDCi AWD Powershift Trend Euro 6             | FORD KUGA          | KUGA                | GJD48X                |                     3886 | Diesel              |                      4140 |           150 | SUV         |                137420 |       2019 |                               6.1 |                                    161 |                         nan |      160000 | https://www.blocket.se/annons/1401810267 |\n",
      "| Audi A3 Sportback 1.0 TFSI Comfort Euro 6                  | AUDI A3 SPORTBACK  | A3 SPORTBACK        | LRO335                |                      360 | Bensin              |                      3984 |           116 | Halvkombi   |                 52000 |       2017 |                               4.7 |                                    107 |                         nan |      154000 | https://www.blocket.se/annons/1401816196 |\n",
      "| Citroën Berlingo Multispace 1.6 BlueHDi 100 8v ETG6 Euro 6 | CITROEN BERLINGO   | BERLINGO            | ONS641                |                     1103 | Diesel              |                      3528 |           100 | Familjebuss |                248215 |       2016 |                               4.2 |                                    109 |                         nan |       50000 | https://www.blocket.se/annons/1401816028 |\n",
      "| Skoda Superb Kombi 2.0 TDI 4x4 Elegance Euro 5             | SKODA 3T SUPERB    | SUPERB              | TYX878                |                     3084 | Diesel              |                      4164 |           170 | Kombi       |                340000 |       2015 |                               5.7 |                                    149 |                         nan |       80000 | https://www.blocket.se/annons/1401824184 |\n",
      "+------------------------------------------------------------+--------------------+---------------------+-----------------------+--------------------------+---------------------+---------------------------+---------------+-------------+-----------------------+------------+-----------------------------------+----------------------------------------+-----------------------------+-------------+------------------------------------------+\n"
     ]
    }
   ],
   "source": [
    "import os\n",
    "import pandas as pd\n",
    "from tabulate import tabulate\n",
    "import re\n",
    "\n",
    "def create_excel_dataset():\n",
    "    data = {}\n",
    "    base_path = \"cars\"\n",
    "    \n",
    "    for folder in os.listdir(base_path):\n",
    "        folder_path = os.path.join(base_path, folder)\n",
    "        if not os.path.isdir(folder_path):\n",
    "            continue\n",
    "        \n",
    "        data[folder] = {}\n",
    "        url_content = None\n",
    "        \n",
    "        for file in os.listdir(folder_path):\n",
    "            if file.endswith(\".txt\"):\n",
    "                file_path = os.path.join(folder_path, file)\n",
    "                with open(file_path, 'r', encoding='utf-8') as f:\n",
    "                    content = f.read().strip()\n",
    "                    \n",
    "                    base_column = file.replace(\".txt\", \"\").lower()\n",
    "                    column_name = base_column.capitalize()\n",
    "\n",
    "                    # Skip unwanted columns\n",
    "                    if base_column in [\"motorstorlek\", \"märke\", \"färg\", \"växellåda\", \"drivning\"]:\n",
    "                        continue\n",
    "\n",
    "                    # Map columns with special names\n",
    "                    if base_column == \"brbr\":\n",
    "                        column_name = \"Bränsleförbrukning (l / 100 km)\"\n",
    "                    elif base_column == \"enbr\":\n",
    "                        column_name = \"Energiförbrukning (Wh/km)\"\n",
    "                    elif base_column in [\"forsakring\", \"försäkring\"]:\n",
    "                        column_name = \"Helförsäkring (kr / år)\"\n",
    "                        # Convert monthly insurance to yearly by multiplying by 12\n",
    "                        try:\n",
    "                            content = str(float(content) * 12)\n",
    "                        except ValueError:\n",
    "                            pass  # Keep original content if not a number\n",
    "                    elif base_column == \"price\":\n",
    "                        column_name = \"Pris (kr)\"\n",
    "                        # Clean up price format\n",
    "                        try:\n",
    "                            content = content.replace(\" \", \"\").replace(\"kr\", \"\").strip()\n",
    "                            content = f\"{int(content):,}\".replace(\",\", \"\")\n",
    "                        except ValueError:\n",
    "                            pass  # Keep original content if not a number\n",
    "                    elif base_column == \"miltal\":\n",
    "                        column_name = \"Mätarställning (km)\"\n",
    "                        # First remove all spaces, then convert mil to km if under threshold\n",
    "                        try:\n",
    "                            raw_value = content.replace(\" \", \"\")\n",
    "                            value = float(raw_value)\n",
    "                            # Example threshold: 50k \n",
    "                            # If under that, assume it's in mil => multiply by 10\n",
    "                            if value < 100000:\n",
    "                                value *= 10\n",
    "                            content = f\"{value:.0f}\"\n",
    "                        except ValueError:\n",
    "                            pass  # Keep original content if not a number\n",
    "                    elif base_column == \"koldiox\":\n",
    "                        column_name = \"Koldioxidutsläpp blandad (NEDC) g/km\"\n",
    "                    elif base_column == \"skatt\":\n",
    "                        column_name = \"Fordonsskatt (kr / år)\"\n",
    "                    elif base_column in [\"hastkrafter\", \"hästkrafter\"]:\n",
    "                        column_name = \"Hästkrafter\"\n",
    "                        content = re.sub(r'\\s*Hk\\s*', '', content, flags=re.IGNORECASE)\n",
    "                    elif base_column == \"url\":\n",
    "                        url_content = content\n",
    "                        continue\n",
    "                    elif base_column in [\"datum\", \"datum i trafik\"]:\n",
    "                        continue  # Skip both Datum and Datum i trafik columns\n",
    "                    elif base_column == \"regnum\":\n",
    "                        column_name = \"Registreringsnummer\"\n",
    "                        # Clean up registration number format\n",
    "                        content = content.upper().strip()\n",
    "                        content = re.sub(r'\\s+', '', content)\n",
    "                    elif base_column == \"namn\":\n",
    "                        column_name = \"Fordonsbenämning\"\n",
    "                        # Clean up vehicle designation format\n",
    "                        content = content.strip()\n",
    "\n",
    "                    data[folder][column_name] = content\n",
    "        \n",
    "        if url_content is not None:\n",
    "            data[folder][\"Url\"] = url_content\n",
    "    \n",
    "    df = pd.DataFrame.from_dict(data, orient='index')\n",
    "    df.index.name = \"Annons\"\n",
    "    \n",
    "    # Reorder columns to put Fordonsbenämning, Handelsbeteckning, and Registreringsnummer in the specified order\n",
    "    columns = [col for col in df.columns if col not in [\"Fordonsbenämning\", \"Handelsbeteckning\", \"Registreringsnummer\", \"Pris (kr)\", \"Url\"]]\n",
    "    columns.insert(0, \"Fordonsbenämning\")  # Insert Fordonsbenämning after Annons\n",
    "    columns.insert(1, \"Handelsbeteckning\")  # Insert Handelsbeteckning after Fordonsbenämning\n",
    "    columns.insert(2, \"Registreringsnummer\")  # Insert Registreringsnummer after Handelsbeteckning\n",
    "    columns.append(\"Pris (kr)\")  # Add price second to last\n",
    "    columns.append(\"Url\")  # Keep URL last\n",
    "    df = df[columns]\n",
    "    \n",
    "    df.to_excel(\"dataset.xlsx\")\n",
    "    return df\n",
    "\n",
    "# Example usage\n",
    "df = create_excel_dataset()\n",
    "\n",
    "print(tabulate(df.head(), headers='keys', tablefmt='psql'))\n"
   ]
  }
 ],
 "metadata": {
  "kernelspec": {
   "display_name": ".venv",
   "language": "python",
   "name": "python3"
  },
  "language_info": {
   "codemirror_mode": {
    "name": "ipython",
    "version": 3
   },
   "file_extension": ".py",
   "mimetype": "text/x-python",
   "name": "python",
   "nbconvert_exporter": "python",
   "pygments_lexer": "ipython3",
   "version": "3.9.21"
  }
 },
 "nbformat": 4,
 "nbformat_minor": 2
}
