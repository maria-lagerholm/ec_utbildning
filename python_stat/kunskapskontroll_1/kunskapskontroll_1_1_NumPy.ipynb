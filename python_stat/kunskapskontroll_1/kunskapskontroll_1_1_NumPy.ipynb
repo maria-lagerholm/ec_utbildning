{
 "cells": [
  {
   "cell_type": "markdown",
   "id": "dacf74e6",
   "metadata": {},
   "source": [
    "# NumPy"
   ]
  },
  {
   "cell_type": "markdown",
   "id": "01b2bf34",
   "metadata": {},
   "source": [
    "Read the links: https://numpy.org/doc/stable/user/quickstart.html  and https://numpy.org/doc/stable/user/basics.broadcasting.html  before solving the exercises. "
   ]
  },
  {
   "cell_type": "code",
   "execution_count": 3,
   "id": "1f79e4a6",
   "metadata": {},
   "outputs": [],
   "source": [
    "import numpy as np"
   ]
  },
  {
   "cell_type": "markdown",
   "id": "7dae6889",
   "metadata": {},
   "source": [
    "### Print out the dimension (number of axes), shape, size and the datatype of the matrix A."
   ]
  },
  {
   "cell_type": "code",
   "execution_count": 4,
   "id": "7b3678cd",
   "metadata": {},
   "outputs": [],
   "source": [
    "A = np.arange(1, 16).reshape(3,5)"
   ]
  },
  {
   "cell_type": "code",
   "execution_count": 5,
   "id": "31d39235",
   "metadata": {},
   "outputs": [
    {
     "name": "stdout",
     "output_type": "stream",
     "text": [
      "2\n",
      "(3, 5)\n",
      "15\n",
      "int64\n"
     ]
    }
   ],
   "source": [
    "print(A.ndim)\n",
    "print(A.shape)\n",
    "print(A.size)\n",
    "print(A.dtype)\n"
   ]
  },
  {
   "cell_type": "markdown",
   "id": "e56d2a96",
   "metadata": {},
   "source": [
    "### Do the following computations on the matrices B and C: \n",
    "* Elementwise subtraction. \n",
    "* Elementwise multiplication. \n",
    "* Matrix multiplication (by default you should use the @ operator)."
   ]
  },
  {
   "cell_type": "code",
   "execution_count": 6,
   "id": "a7053fbb",
   "metadata": {},
   "outputs": [
    {
     "name": "stdout",
     "output_type": "stream",
     "text": [
      "[[1 2 3]\n",
      " [4 5 6]\n",
      " [7 8 9]]\n",
      "\n",
      "[[2. 2. 2.]\n",
      " [2. 2. 2.]\n",
      " [2. 2. 2.]]\n"
     ]
    }
   ],
   "source": [
    "B = np.arange(1, 10).reshape(3, 3)\n",
    "C = np.ones((3, 3))*2\n",
    "\n",
    "print(B)\n",
    "print()\n",
    "print(C)"
   ]
  },
  {
   "cell_type": "code",
   "execution_count": 7,
   "id": "3cd794ae",
   "metadata": {},
   "outputs": [
    {
     "name": "stdout",
     "output_type": "stream",
     "text": [
      "[[-1.  0.  1.]\n",
      " [ 2.  3.  4.]\n",
      " [ 5.  6.  7.]]\n",
      "[[ 2.  4.  6.]\n",
      " [ 8. 10. 12.]\n",
      " [14. 16. 18.]]\n",
      "[[12. 12. 12.]\n",
      " [30. 30. 30.]\n",
      " [48. 48. 48.]]\n"
     ]
    }
   ],
   "source": [
    "# Elementwise subtraction\n",
    "print(B - C)\n",
    "# Elementwise multiplication\n",
    "print(B * C)\n",
    "# Matrix multiplication\n",
    "print(B @ C)\n"
   ]
  },
  {
   "cell_type": "markdown",
   "id": "96030d53",
   "metadata": {},
   "source": [
    "### Do the following calculations on the matrix:\n",
    "* Exponentiate each number elementwise (use the np.exp function).\n",
    "\n",
    "* Calculate the minimum value in the whole matrix. \n",
    "* Calculcate the minimum value in each row. \n",
    "* Calculcate the minimum value in each column. \n",
    "\n",
    "\n",
    "* Find the index value for the minimum value in the whole matrix (hint: use np.argmin).\n",
    "* Find the index value for the minimum value in each row (hint: use np.argmin).\n",
    "\n",
    "\n",
    "* Calculate the sum for all elements.\n",
    "* Calculate the mean for each column. \n",
    "* Calculate the median for each column. "
   ]
  },
  {
   "cell_type": "code",
   "execution_count": 8,
   "id": "f8a9166b",
   "metadata": {},
   "outputs": [
    {
     "name": "stdout",
     "output_type": "stream",
     "text": [
      "[[1 2 3]\n",
      " [4 5 6]\n",
      " [7 8 9]]\n"
     ]
    }
   ],
   "source": [
    "B = np.arange(1, 10).reshape(3, 3)\n",
    "print(B)"
   ]
  },
  {
   "cell_type": "code",
   "execution_count": 34,
   "id": "f03f24f7",
   "metadata": {},
   "outputs": [
    {
     "name": "stdout",
     "output_type": "stream",
     "text": [
      "exponentiation =  [[2.71828183e+00 7.38905610e+00 2.00855369e+01]\n",
      " [5.45981500e+01 1.48413159e+02 4.03428793e+02]\n",
      " [1.09663316e+03 2.98095799e+03 8.10308393e+03]]\n",
      "-----------------------------\n",
      "min. value in the whole matrix =  1\n",
      "-----------------------------\n",
      "min. value in each row =  [1 4 7]\n",
      "-----------------------------\n",
      "min. value in each column =  [1 2 3]\n",
      "-----------------------------\n",
      "index for min. value in the whole matrix =  0\n",
      "-----------------------------\n",
      "index for min. value in each row =  [0 0 0]\n",
      "-----------------------------\n",
      "sum of all elements =  45\n",
      "-----------------------------\n",
      "mean for each column =  [4. 5. 6.]\n",
      "-----------------------------\n",
      "median for each column =  [4. 5. 6.]\n"
     ]
    }
   ],
   "source": [
    "print(\"exponentiation = \",np.exp(B))\n",
    "print(\"-----------------------------\")\n",
    "print(\"min. value in the whole matrix = \",np.min(B))\n",
    "print(\"-----------------------------\")\n",
    "print(\"min. value in each row = \", np.min(B, axis=1))\n",
    "print(\"-----------------------------\")\n",
    "print(\"min. value in each column = \", np.min(B, axis=0))\n",
    "print(\"-----------------------------\")\n",
    "print(\"index for min. value in the whole matrix = \", np.argmin(B))\n",
    "print(\"-----------------------------\")\n",
    "print(\"index for min. value in each row = \", np.argmin(B, axis=1))\n",
    "print(\"-----------------------------\")\n",
    "print(\"sum of all elements = \", np.sum(B))\n",
    "print(\"-----------------------------\")\n",
    "print(\"mean for each column = \", np.mean(B, axis=0))\n",
    "print(\"-----------------------------\")\n",
    "print(\"median for each column = \", np.median(B, axis=0))\n",
    "\n",
    "\n",
    "\n"
   ]
  },
  {
   "cell_type": "markdown",
   "id": "541eb7ba",
   "metadata": {},
   "source": [
    "### What does it mean when you provide fewer indices than axes when slicing? See example below."
   ]
  },
  {
   "cell_type": "code",
   "execution_count": 35,
   "id": "9c8abf56",
   "metadata": {},
   "outputs": [
    {
     "name": "stdout",
     "output_type": "stream",
     "text": [
      "[[ 1  2  3  4  5]\n",
      " [ 6  7  8  9 10]\n",
      " [11 12 13 14 15]]\n"
     ]
    }
   ],
   "source": [
    "print(A)"
   ]
  },
  {
   "cell_type": "code",
   "execution_count": 36,
   "id": "69415f7b",
   "metadata": {},
   "outputs": [
    {
     "data": {
      "text/plain": [
       "array([ 6,  7,  8,  9, 10])"
      ]
     },
     "execution_count": 36,
     "metadata": {},
     "output_type": "execute_result"
    }
   ],
   "source": [
    "A[1]"
   ]
  },
  {
   "cell_type": "markdown",
   "id": "6c53541b",
   "metadata": {},
   "source": [
    "**Answer:**"
   ]
  },
  {
   "cell_type": "markdown",
   "id": "de01e120",
   "metadata": {},
   "source": [
    "Providing fewer indices than axes means that I am slicing along a single axis."
   ]
  },
  {
   "cell_type": "markdown",
   "id": "6652d0c9",
   "metadata": {},
   "source": [
    "### Iterating over multidimensional arrays is done with respect to the first axis, so in the example below we iterate trough the rows. If you would like to iterate through the array *elementwise*, how would you do that?"
   ]
  },
  {
   "cell_type": "code",
   "execution_count": 37,
   "id": "9459864f",
   "metadata": {},
   "outputs": [
    {
     "data": {
      "text/plain": [
       "array([[ 1,  2,  3,  4,  5],\n",
       "       [ 6,  7,  8,  9, 10],\n",
       "       [11, 12, 13, 14, 15]])"
      ]
     },
     "execution_count": 37,
     "metadata": {},
     "output_type": "execute_result"
    }
   ],
   "source": [
    "A"
   ]
  },
  {
   "cell_type": "code",
   "execution_count": 38,
   "id": "a671bb5a",
   "metadata": {},
   "outputs": [
    {
     "name": "stdout",
     "output_type": "stream",
     "text": [
      "[1 2 3 4 5]\n",
      "[ 6  7  8  9 10]\n",
      "[11 12 13 14 15]\n"
     ]
    }
   ],
   "source": [
    "for i in A:\n",
    "    print(i)"
   ]
  },
  {
   "cell_type": "code",
   "execution_count": 40,
   "id": "f4e443a0",
   "metadata": {},
   "outputs": [
    {
     "name": "stdout",
     "output_type": "stream",
     "text": [
      "1\n",
      "2\n",
      "3\n",
      "4\n",
      "5\n",
      "6\n",
      "7\n",
      "8\n",
      "9\n",
      "10\n",
      "11\n",
      "12\n",
      "13\n",
      "14\n",
      "15\n"
     ]
    }
   ],
   "source": [
    "for i in A.flat:\n",
    "    print(i)"
   ]
  },
  {
   "cell_type": "markdown",
   "id": "608a2583",
   "metadata": {},
   "source": [
    "### Explain what the code below does. More specifically, b has three axes - what does this mean? "
   ]
  },
  {
   "cell_type": "code",
   "execution_count": 45,
   "id": "f8f9b26f",
   "metadata": {},
   "outputs": [
    {
     "name": "stdout",
     "output_type": "stream",
     "text": [
      "[ 0  1  2  3  4  5  6  7  8  9 10 11 12 13 14 15 16 17 18 19 20 21 22 23\n",
      " 24 25 26 27 28 29]\n",
      "\n",
      "[[[ 0  1  2  3  4]\n",
      "  [ 5  6  7  8  9]\n",
      "  [10 11 12 13 14]]\n",
      "\n",
      " [[15 16 17 18 19]\n",
      "  [20 21 22 23 24]\n",
      "  [25 26 27 28 29]]]\n"
     ]
    }
   ],
   "source": [
    "\n",
    "# np.arange(30) creates a 1D array with values from 0 to 29. \n",
    "# b = a.reshape((2, 3, -1)) reshapes the 1D array into a 3D array with 2 blocks each with 3 columns and the remaining axis will be inferred from the other axes.\n",
    "# then we print the original array a, then we do print() which is an empty line, and then we print the reshaped array b. \n",
    "\n",
    "a = np.arange(30)\n",
    "b = a.reshape((2, 3, -1))\n",
    "print(a)\n",
    "print()\n",
    "\n",
    "print(b)\n",
    "\n",
    "\n"
   ]
  },
  {
   "cell_type": "markdown",
   "id": "ab5933d5",
   "metadata": {},
   "source": [
    "### Broadcasting\n",
    "**Read the following link about broadcasting: https://numpy.org/doc/stable/user/basics.broadcasting.html#basics-broadcasting**"
   ]
  },
  {
   "cell_type": "markdown",
   "id": "039805ba",
   "metadata": {},
   "source": [
    "# Remark on Broadcasting when doing Linear Algebra calculations in Python. "
   ]
  },
  {
   "cell_type": "markdown",
   "id": "c4bcc147",
   "metadata": {},
   "source": [
    "### From the mathematical rules of matrix addition, the operation below (m1 + m2) does not make sense. The reason is that matrix addition requires two matrices of the same size. In Python however, it works due to broadcasting rules in NumPy. So you must be careful when doing Linear Algebra calculations in Python since they do not follow the \"mathematical rules\". This can however easily be handled by doing some simple programming, for example validating that two matrices have the same shape is easy if you for instance want to add two matrices. "
   ]
  },
  {
   "cell_type": "code",
   "execution_count": 46,
   "id": "1fd46778",
   "metadata": {},
   "outputs": [
    {
     "name": "stdout",
     "output_type": "stream",
     "text": [
      "[[2 3]\n",
      " [4 5]]\n"
     ]
    }
   ],
   "source": [
    "m1 = np.array([[1, 2], [3, 4]])\n",
    "m2 = np.array([1, 1])\n",
    "print(m1 + m2)"
   ]
  },
  {
   "cell_type": "markdown",
   "id": "047d6576",
   "metadata": {},
   "source": [
    "### The example below would also not be allowed if following the \"mathematical rules\" in Linear Algebra. But it works due to broadcasting in NumPy. "
   ]
  },
  {
   "cell_type": "code",
   "execution_count": 47,
   "id": "5e6ef2e4",
   "metadata": {},
   "outputs": [
    {
     "name": "stdout",
     "output_type": "stream",
     "text": [
      "[2 3 4]\n"
     ]
    }
   ],
   "source": [
    "v1 = np.array([1, 2, 3])\n",
    "print(v1 + 1)"
   ]
  },
  {
   "cell_type": "code",
   "execution_count": 49,
   "id": "e2cbae26",
   "metadata": {},
   "outputs": [
    {
     "name": "stdout",
     "output_type": "stream",
     "text": [
      "[[1 2]\n",
      " [3 4]]\n",
      "--------------------------------\n",
      "[2 2]\n"
     ]
    }
   ],
   "source": [
    "A = np.arange(1, 5).reshape(2,2)\n",
    "print(A)\n",
    "print(\"--------------------------------\")\n",
    "b = np.array([2, 2])\n",
    "print(b)"
   ]
  },
  {
   "cell_type": "markdown",
   "id": "722fd5cd",
   "metadata": {},
   "source": [
    "# Vector- and matrix algebra Exercises"
   ]
  },
  {
   "cell_type": "markdown",
   "id": "b63a3081-d976-4d9f-bfd0-a63917e79f7d",
   "metadata": {},
   "source": [
    "**Now you are going to create a function that can be reused every time you add or multiply matrices. The function is created so that we do the addition and multiplication according to the rules of vector- and matrix algebra.**\n",
    "\n",
    "**Create a function \"add_mult_matrices\" that takes two matrices as input arguments (validate that the input are of the type numpy.ndarray by using the isinstance function), a third argument that is either 'add' or 'multiply' that specifies if you want to add or multiply the matrices (validate that the third argument is either 'add' or 'multiply'). When doing matrix addition, validate that the matrices have the same size. When doing matrix multiplication, validate that the sizes conform (i.e. number of columns in the first matrix is equal to the number of rows in the second matrix).**"
   ]
  },
  {
   "cell_type": "code",
   "execution_count": 109,
   "id": "3506f977-ac0a-473f-85bc-eec9f35dc498",
   "metadata": {},
   "outputs": [],
   "source": [
    "def add_mult_matrices(m1, m2, add_or_mult):\n",
    "    if not isinstance(m1, np.ndarray) or not isinstance(m2, np.ndarray): #validate that the input are of the type numpy.ndarray\n",
    "        raise ValueError(\"Input arguments must be of the type numpy.ndarray\")\n",
    "    if add_or_mult not in ['add', 'multiply']: #validate that the third argument is either 'add' or 'multiply'\n",
    "        raise ValueError(\"The third argument must be either 'add' or 'multiply'\")\n",
    "    if m1.shape != m2.shape: #validate that the matrices have the same size\n",
    "        raise ValueError(\"Matrices must have the same size\")\n",
    "    if add_or_mult == 'add': #if the third argument is 'add'\n",
    "        return m1 + m2\n",
    "    else: #if the third argument is 'multiply'\n",
    "        return m1 @ m2\n",
    "    "
   ]
  },
  {
   "cell_type": "markdown",
   "id": "8dad82d0-2359-4dff-8f5b-a57d3e34103c",
   "metadata": {},
   "source": [
    "### Solve all the exercises in chapter 10.1 in the book \"Matematik för yrkeshögskolan\". "
   ]
  },
  {
   "cell_type": "code",
   "execution_count": 113,
   "id": "1961dc19",
   "metadata": {},
   "outputs": [
    {
     "name": "stdout",
     "output_type": "stream",
     "text": [
      "-------------------------\n",
      "(a) Dimensionen: (2, 1)\n",
      "-------------------------\n",
      "(b) 5x = [[20]\n",
      " [15]]\n",
      "-------------------------\n",
      "(c) 3x = [[12]\n",
      " [ 9]]\n",
      "-------------------------\n",
      "(d) 5x + 3x = [[32]\n",
      " [24]]\n",
      "-------------------------\n",
      "(e) 8x = [[32]\n",
      " [24]]\n",
      "-------------------------\n",
      "(f) 4x - x = [[12]\n",
      " [ 9]]\n",
      "-------------------------\n",
      "(g) Dimensionen av x^T: (2, 1)\n",
      "-------------------------\n",
      "(h) x + x^T = [[8]\n",
      " [6]]\n",
      "-------------------------\n",
      "(i) ||x|| = 5.0\n"
     ]
    }
   ],
   "source": [
    "import numpy as np\n",
    "\n",
    "# Definiera vektorn x\n",
    "x = np.array([[4], [3]])\n",
    "print(\"-------------------------\")\n",
    "\n",
    "# (a) Dimensionen av x\n",
    "print(\"(a) Dimensionen:\", x.shape)\n",
    "print(\"-------------------------\")\n",
    "\n",
    "# (b) Beräkna 5x\n",
    "print(\"(b) 5x =\", 5 * x)\n",
    "print(\"-------------------------\")\n",
    "\n",
    "# (c) Beräkna 3x\n",
    "print(\"(c) 3x =\", 3 * x)\n",
    "print(\"-------------------------\")\n",
    "\n",
    "# (d) Beräkna 5x + 3x\n",
    "print(\"(d) 5x + 3x =\", 5 * x + 3 * x)\n",
    "print(\"-------------------------\")\n",
    "\n",
    "# (e) Beräkna 8x\n",
    "print(\"(e) 8x =\", 8 * x)\n",
    "print(\"-------------------------\")\n",
    "\n",
    "# (f) Beräkna 4x - x\n",
    "print(\"(f) 4x - x =\", 4 * x - x)\n",
    "print(\"-------------------------\")\n",
    "\n",
    "# (g) Transponera x\n",
    "x_T = x.reshape(-1, 1)\n",
    "print(\"(g) Dimensionen av x^T:\", x_T.shape)\n",
    "print(\"-------------------------\")\n",
    "\n",
    "# (h) Kontrollera om x + x^T är definierat\n",
    "print(\"(h) x + x^T =\", x + x_T)\n",
    "print(\"-------------------------\")\n",
    "\n",
    "# (i) Beräkna ||x||\n",
    "print(\"(i) ||x|| =\", np.linalg.norm(x))\n"
   ]
  },
  {
   "cell_type": "code",
   "execution_count": 114,
   "id": "b9ddec41",
   "metadata": {},
   "outputs": [
    {
     "name": "stdout",
     "output_type": "stream",
     "text": [
      "-------------------------\n",
      "(a) Dimensionen: (4, 1)\n",
      "-------------------------\n",
      "(b) 2v = [[ 6]\n",
      " [14]\n",
      " [ 0]\n",
      " [22]]\n",
      "-------------------------\n",
      " (c) 5v+2v = [[21]\n",
      " [49]\n",
      " [ 0]\n",
      " [77]]\n",
      "-------------------------\n",
      " (d) 4v - 2v = [[18]\n",
      " [42]\n",
      " [ 0]\n",
      " [66]]\n",
      "-------------------------\n",
      " (e) v transponerat = [[ 3  7  0 11]]\n",
      "Ny dimension: (1, 4)\n",
      "-------------------------\n",
      "(f) ||v|| = 13.379088160259652\n"
     ]
    }
   ],
   "source": [
    "import numpy as np\n",
    "\n",
    "v = np.array([[3], [7], [0], [11]])\n",
    "print(\"-------------------------\")\n",
    "\n",
    "# (a) Dimensionen av v\n",
    "print(\"(a) Dimensionen:\", v.shape)\n",
    "\n",
    "print(\"-------------------------\")\n",
    "\n",
    "# (b) Beräkna 2v\n",
    "print(\"(b) 2v =\", 2 * v)\n",
    "\n",
    "print(\"-------------------------\")\n",
    "\n",
    "\n",
    "# (c) Beräkna 5v + 2v\n",
    "print(\" (c) 5v+2v =\", 5 * v + 2 * v)\n",
    "\n",
    "print(\"-------------------------\")\n",
    "\n",
    "\n",
    "# (d) Beräkna 4v - 2v\n",
    "print(\" (d) 4v - 2v =\", 4 * v + 2 * v)\n",
    "\n",
    "print(\"-------------------------\")\n",
    "\n",
    "# (e) Beräkna v**T\n",
    "print(\" (e) v transponerat =\", v.T)\n",
    "print(\"Ny dimension:\", v.T.shape)\n",
    "\n",
    "print(\"-------------------------\")\n",
    "\n",
    "# (c) Beräkna normen ||v|| \n",
    "print(\"(f) ||v|| =\", np.linalg.norm(v)) # vektorns storlek (magnitude)\n",
    "\n",
    "\n"
   ]
  },
  {
   "cell_type": "code",
   "execution_count": 115,
   "id": "276c1517",
   "metadata": {},
   "outputs": [
    {
     "name": "stdout",
     "output_type": "stream",
     "text": [
      "(a) ||v1|| = 7.14142842854285\n",
      "-------------------------\n",
      "(b) ||v1 - v2|| = 4.47213595499958\n"
     ]
    }
   ],
   "source": [
    "import numpy as np\n",
    "\n",
    "v1 = np.array([4, 3, 1, 5])\n",
    "v2 = np.array([2, 3, 1, 1])\n",
    "\n",
    "# (a) Beräkna ||v1|| (normen av v1)\n",
    "print(\"(a) ||v1|| =\", np.linalg.norm(v1))\n",
    "\n",
    "print(\"-------------------------\")\n",
    "\n",
    "\n",
    "# (b) Beräkna ||v1 - v2|| (normen av v1 - v2)\n",
    "print(\"(b) ||v1 - v2|| =\", np.linalg.norm(v1 - v2))"
   ]
  },
  {
   "cell_type": "markdown",
   "id": "75c98984-1f88-4df1-b850-d2466de444a5",
   "metadata": {},
   "source": [
    "### Solve all the exercises, except 10.2.4, in chapter 10.2 in the book \"Matematik för yrkeshögskolan\". "
   ]
  },
  {
   "cell_type": "code",
   "execution_count": 116,
   "id": "65371610-16e1-48b2-b7fb-65e49002608a",
   "metadata": {},
   "outputs": [
    {
     "name": "stdout",
     "output_type": "stream",
     "text": [
      "(a) 2A = [[ 4  2 -2]\n",
      " [ 2 -2  2]]\n",
      "-------------------------\n",
      "(b) B - 2A = [[ 0 -4  3]\n",
      " [ 0 -2 -4]]\n",
      "-------------------------\n",
      "(c) Error: Matrices must have the same size\n",
      "-------------------------\n",
      "(d) 2D - 3C = [[3 2]\n",
      " [2 3]]\n",
      "-------------------------\n",
      "(e) D^T + 2D = [[ 9 12]\n",
      " [12  9]]\n",
      "-------------------------\n",
      "(f) 2C^T - 2D^T = [[-4 -4]\n",
      " [-4 -4]]\n",
      "-------------------------\n",
      "(g) Error: Matrices must have the same size\n",
      "-------------------------\n",
      "(g) Error: Matrices must have the same size\n",
      "-------------------------\n",
      "(g) CD =  [[11 10]\n",
      " [10 11]]\n",
      "-------------------------\n",
      "(j) Error: Matrices must have the same size\n",
      "-------------------------\n",
      "(k) CI =  [[1 2]\n",
      " [2 1]]\n",
      "-------------------------\n",
      "(l) Error: Matrices must have the same size\n",
      "-------------------------\n"
     ]
    }
   ],
   "source": [
    "import numpy as np\n",
    "\n",
    "A = np.array([[2, 1, -1], [1, -1, 1]])\n",
    "B = np.array([[4, -2, 1], [2, -4, -2]])\n",
    "C = np.array([[1, 2], [2, 1]])\n",
    "D = np.array([[3, 4], [4, 3]])\n",
    "E = np.array([[1], [2]])\n",
    "I = np.array([[1, 0], [0, 1]])\n",
    "\n",
    "# (a) 2A\n",
    "print(\"(a) 2A =\", 2 * A)\n",
    "\n",
    "print(\"-------------------------\")\n",
    "\n",
    "\n",
    "# (b) B - 2A (multiplicera A med -2 och använd addition, använd min funktion add_mult_matrices)\n",
    "try:\n",
    "    print(\"(b) B - 2A =\", add_mult_matrices(B, -2 * A, 'add'))\n",
    "except ValueError as e:\n",
    "    print(\"(b) Error:\", f\"{e}\")\n",
    "\n",
    "print(\"-------------------------\")\n",
    "\n",
    "\n",
    "# (c) 3C - 2E \n",
    "try:\n",
    "    print(\"(c) 3C - 2E =\", add_mult_matrices(3 * C, -2 * E, 'add'))\n",
    "except ValueError as e:\n",
    "    print(\"(c) Error:\", f\"{e}\")\n",
    "\n",
    "print(\"-------------------------\")\n",
    "\n",
    "# (d) 2D - 3C \n",
    "try:\n",
    "    print(\"(d) 2D - 3C =\", add_mult_matrices(2 * D, -3 * C, 'add'))\n",
    "except ValueError as e:\n",
    "    print(\"(d) Error:\", f\"{e}\")\n",
    "\n",
    "print(\"-------------------------\")\n",
    "\n",
    "# (e) D^T + 2D (multiplicera D^T med 2 och använd addition)\n",
    "try:\n",
    "    print(\"(e) D^T + 2D =\", add_mult_matrices(D.T, 2 * D, 'add'))\n",
    "except ValueError as e:\n",
    "    print(\"(e) Error:\", f\"{e}\")\n",
    "\n",
    "print(\"-------------------------\")\n",
    "\n",
    "\n",
    "# (f) 2C^T - 2D^T (multiplicera D^T med -2 och använd addition)\n",
    "try:\n",
    "    print(\"(f) 2C^T - 2D^T =\", add_mult_matrices(2 * C.T, -2 * D.T, 'add'))\n",
    "except ValueError as e:\n",
    "    print(\"(f) Error:\", f\"{e}\")\n",
    "\n",
    "print(\"-------------------------\")\n",
    "\n",
    "# (g) A^T - B\n",
    "try:\n",
    "    print(\"(g) A^T - B =\", add_mult_matrices(A.T, -1 * B, 'add'))\n",
    "except ValueError as e:\n",
    "    print(\"(g) Error:\", f\"{e}\")\n",
    "\n",
    "print(\"-------------------------\")\n",
    "\n",
    "# (h) AC\n",
    "try:\n",
    "    print(\"(g) AC = \", add_mult_matrices(A, C, 'multiply'))\n",
    "except ValueError as e:\n",
    "    print(\"(g) Error:\", f\"{e}\")\n",
    "\n",
    "print(\"-------------------------\")\n",
    "\n",
    "# (i) CD\n",
    "try:\n",
    "    print(\"(g) CD = \", add_mult_matrices(C, D, 'multiply'))\n",
    "except ValueError as e:\n",
    "    print(\"(g) Error:\", f\"{e}\")\n",
    "\n",
    "print(\"-------------------------\")\n",
    "\n",
    "# (j) CB\n",
    "\n",
    "try:\n",
    "    print(\"(j) CB = \", add_mult_matrices(C, B, 'multiply'))\n",
    "except ValueError as e:\n",
    "    print(\"(j) Error:\", f\"{e}\")\n",
    "\n",
    "print(\"-------------------------\")\n",
    "\n",
    "# (k) CI\n",
    "\n",
    "try:\n",
    "    print(\"(k) CI = \", add_mult_matrices(C, I, 'multiply'))\n",
    "except ValueError as e:\n",
    "    print(\"(k) Error:\", f\"{e}\")\n",
    "\n",
    "print(\"-------------------------\")\n",
    "\n",
    "# (l) AB^T\n",
    "try:\n",
    "    print(\"(l) AB^T =\", add_mult_matrices(A, B.T, 'multiply'))\n",
    "except ValueError as e:\n",
    "    print(\"(l) Error:\", f\"{e}\")\n",
    "\n",
    "print(\"-------------------------\")\n"
   ]
  },
  {
   "cell_type": "code",
   "execution_count": 117,
   "id": "cb9bf510",
   "metadata": {},
   "outputs": [
    {
     "name": "stdout",
     "output_type": "stream",
     "text": [
      "Error Matrices must have the same size\n"
     ]
    }
   ],
   "source": [
    "A = np.array([[2, 3, 4], [5, 4, 1]])\n",
    "\n",
    "# AA^T\n",
    "try:\n",
    "    print(\"AA^T=\", add_mult_matrices(A, A.T, \"multiply\"))\n",
    "except ValueError as e:\n",
    "    print(\"Error\", f\"{e}\")\n",
    "\n"
   ]
  },
  {
   "cell_type": "code",
   "execution_count": 118,
   "id": "393198dd",
   "metadata": {},
   "outputs": [
    {
     "name": "stdout",
     "output_type": "stream",
     "text": [
      "[[ 4  7]\n",
      " [ 8 14]]\n",
      "-----------------\n",
      "[[ 4  7]\n",
      " [ 8 14]]\n"
     ]
    }
   ],
   "source": [
    "A = np.array([[1, 2], [2, 4]])\n",
    "B = np.array([[2, 1], [1, 3]])\n",
    "C = np.array([[4, 3], [0, 2]])\n",
    "\n",
    "print(A@B)\n",
    "print(\"-----------------\")\n",
    "print(A@C)\n"
   ]
  },
  {
   "cell_type": "markdown",
   "id": "6a4a524f",
   "metadata": {},
   "source": [
    "### Copies and Views\n",
    "Read the following link: https://numpy.org/doc/stable/user/basics.copies.html"
   ]
  },
  {
   "cell_type": "markdown",
   "id": "6cbbeaf7",
   "metadata": {},
   "source": [
    "**Basic indexing creates a view, How can you check if v1 and v2 is a view or copy? If you change the last element in v2 to 123, will the last element in v1 be changed? Why?**"
   ]
  },
  {
   "cell_type": "code",
   "execution_count": 120,
   "id": "5b9ef4df",
   "metadata": {},
   "outputs": [
    {
     "name": "stdout",
     "output_type": "stream",
     "text": [
      "[0 1 2 3]\n",
      "[2 3]\n"
     ]
    }
   ],
   "source": [
    "# To check if v1 and v2 is a view or copy, we can use the base attribute. \n",
    "# If v1.base is not None, then v1 is a view, otherwise it is a copy.\n",
    "# view means that a new array is created\n",
    "# copy means that the same data is simply copied to a new memory location.\n",
    "\n",
    "v1 = np.arange(4)\n",
    "v2 = v1[-2:]\n",
    "print(v1)\n",
    "print(v2)"
   ]
  },
  {
   "cell_type": "code",
   "execution_count": 121,
   "id": "d2440489",
   "metadata": {},
   "outputs": [
    {
     "name": "stdout",
     "output_type": "stream",
     "text": [
      "None\n",
      "[0 1 2 3]\n"
     ]
    }
   ],
   "source": [
    "# The base attribute of a view returns the original array while it returns None for a copy.\n",
    "print(v1.base)\n",
    "print(v2.base)"
   ]
  },
  {
   "cell_type": "code",
   "execution_count": 122,
   "id": "c8752807",
   "metadata": {},
   "outputs": [
    {
     "name": "stdout",
     "output_type": "stream",
     "text": [
      "[  0   1   2 123]\n",
      "[  2 123]\n"
     ]
    }
   ],
   "source": [
    "# The last element in v1 will be changed aswell since v2 is a view, meaning they share the same data buffer.\n",
    "v2[-1] = 123\n",
    "print(v1)\n",
    "print(v2)"
   ]
  },
  {
   "cell_type": "code",
   "execution_count": null,
   "id": "3dd68221",
   "metadata": {},
   "outputs": [],
   "source": []
  }
 ],
 "metadata": {
  "kernelspec": {
   "display_name": "Python 3 (ipykernel)",
   "language": "python",
   "name": "python3"
  },
  "language_info": {
   "codemirror_mode": {
    "name": "ipython",
    "version": 3
   },
   "file_extension": ".py",
   "mimetype": "text/x-python",
   "name": "python",
   "nbconvert_exporter": "python",
   "pygments_lexer": "ipython3",
   "version": "3.9.6"
  }
 },
 "nbformat": 4,
 "nbformat_minor": 5
}
