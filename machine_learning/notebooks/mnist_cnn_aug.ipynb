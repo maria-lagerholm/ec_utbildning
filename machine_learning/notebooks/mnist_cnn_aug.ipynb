{
 "cells": [
  {
   "cell_type": "code",
   "execution_count": 1,
   "metadata": {},
   "outputs": [
    {
     "name": "stderr",
     "output_type": "stream",
     "text": [
      "/Users/mariiakokina/Downloads/py39env/lib/python3.9/site-packages/urllib3/__init__.py:35: NotOpenSSLWarning: urllib3 v2 only supports OpenSSL 1.1.1+, currently the 'ssl' module is compiled with 'LibreSSL 2.8.3'. See: https://github.com/urllib3/urllib3/issues/3020\n",
      "  warnings.warn(\n"
     ]
    }
   ],
   "source": [
    "import tensorflow as tf\n",
    "import tensorflow_datasets as tfds\n",
    "import matplotlib.pyplot as plt\n",
    "import numpy as np\n",
    "from PIL import Image, ImageDraw\n",
    "import random\n",
    "\n",
    "\n",
    "\n",
    "\n",
    "#https://www.tensorflow.org/datasets/keras_example"
   ]
  },
  {
   "cell_type": "markdown",
   "metadata": {},
   "source": [
    "### Load a dataset"
   ]
  },
  {
   "cell_type": "code",
   "execution_count": 2,
   "metadata": {},
   "outputs": [],
   "source": [
    "# Load the MNIST dataset, splitting it into training (90%), validation (10%), and test\n",
    "(ds_train, ds_val, ds_test), ds_info = tfds.load(\n",
    "    'mnist',\n",
    "    split=['train[:90%]', 'train[90%:]', 'test'],\n",
    "    shuffle_files=True,\n",
    "    as_supervised=True,\n",
    "    with_info=True,\n",
    ")\n"
   ]
  },
  {
   "cell_type": "markdown",
   "metadata": {},
   "source": [
    "### Create synthetic images of plus and minus"
   ]
  },
  {
   "cell_type": "code",
   "execution_count": 3,
   "metadata": {},
   "outputs": [
    {
     "data": {
      "image/png": "[encoded data removed]",
      "text/plain": [
       "<Figure size 1000x400 with 20 Axes>"
      ]
     },
     "metadata": {},
     "output_type": "display_data"
    },
    {
     "name": "stdout",
     "output_type": "stream",
     "text": [
      "Custom dataset shape: (60000, 28, 28, 1)\n",
      "Custom labels shape: (60000,)\n"
     ]
    }
   ],
   "source": [
    "def generate_plus_image(\n",
    "    stroke_min=2, \n",
    "    stroke_max=2,\n",
    "    wiggle=0.2,            # random offset\n",
    "    left_h_range=(3, 10),    # random half-length for the left part\n",
    "    right_h_range=(3, 10),   # random half-length for the right part\n",
    "    top_v_range=(4, 10),     # random half-length for the top part\n",
    "    bottom_v_range=(3, 10),  # random half-length for the bottom part\n",
    "    rotation_range=(-15, 15)\n",
    "):\n",
    "    \"\"\"\n",
    "    Generates a 28x28 plus sign, allowing the left/right and top/bottom lengths\n",
    "    to differ. This creates an asymmetrical plus sign.\n",
    "    \"\"\"\n",
    "    # Random stroke thickness\n",
    "    stroke = random.randint(stroke_min, stroke_max)\n",
    "    \n",
    "    # Random half-lengths for each direction\n",
    "    left_h_len = random.randint(*left_h_range)\n",
    "    right_h_len = random.randint(*right_h_range)\n",
    "    top_v_len = random.randint(*top_v_range)\n",
    "    bottom_v_len = random.randint(*bottom_v_range)\n",
    "    \n",
    "    img = Image.new(\"L\", (28, 28), color=0)\n",
    "    draw = ImageDraw.Draw(img)\n",
    "    center = 14\n",
    "    \n",
    "    # Draw horizontal stroke: from (center - left_h_len) to (center + right_h_len)\n",
    "    for x in range(center - left_h_len, center + right_h_len + 1):\n",
    "        y_center = center + random.uniform(-wiggle, wiggle)\n",
    "        draw.rectangle(\n",
    "            [\n",
    "                (x - stroke//2, y_center - stroke//2),\n",
    "                (x + stroke//2, y_center + stroke//2)\n",
    "            ],\n",
    "            fill=255\n",
    "        )\n",
    "        \n",
    "    # Draw vertical stroke: from (center - top_v_len) to (center + bottom_v_len)\n",
    "    for y in range(center - top_v_len, center + bottom_v_len + 1):\n",
    "        x_center = center + random.uniform(-wiggle, wiggle)\n",
    "        draw.rectangle(\n",
    "            [\n",
    "                (x_center - stroke//2, y - stroke//2),\n",
    "                (x_center + stroke//2, y + stroke//2)\n",
    "            ],\n",
    "            fill=255\n",
    "        )\n",
    "    \n",
    "    # Random rotation\n",
    "    rotation = random.uniform(*rotation_range)\n",
    "    if rotation != 0:\n",
    "        img = img.rotate(rotation, resample=Image.BILINEAR, center=(center, center))\n",
    "    \n",
    "    return np.array(img, dtype=np.uint8)\n",
    "\n",
    "\n",
    "\n",
    "def generate_minus_image(\n",
    "    stroke_min=2, stroke_max=2,\n",
    "    wiggle=0.2,       # maximum horizontal offset per step\n",
    "    line_length=9,    # how far from center to go on each side\n",
    "    rotation_range=(-15, 15)  # rotation angle range in degrees\n",
    "):\n",
    "    \"\"\"\n",
    "    Creates a 28x28 minus sign with 'handwritten' jitter.\n",
    "    stroke_min/stroke_max control thickness range,\n",
    "    wiggle controls random offset on each small segment,\n",
    "    line_length is half the minus sign's total length from center.\n",
    "    rotation_range allows rotating the minus sign by specified degrees.\n",
    "\n",
    "    Return: A numpy array of shape (28, 28) in uint8 [0..255].\n",
    "    \"\"\"\n",
    "    # Randomly pick the stroke thickness for this sign\n",
    "    stroke = random.randint(stroke_min, stroke_max)\n",
    "    \n",
    "    # Create empty image\n",
    "    img = Image.new(\"L\", (28, 28), color=0)  # black background\n",
    "    draw = ImageDraw.Draw(img)\n",
    "    \n",
    "    center = 14\n",
    "    \n",
    "    # Draw horizontal stroke: from (center - line_length) to (center + line_length)\n",
    "    x_start = center - line_length\n",
    "    x_end   = center + line_length\n",
    "    \n",
    "    # We'll move in small steps along the x-axis\n",
    "    for x in range(x_start, x_end + 1):\n",
    "        # For each x, the y center is 'center', but let's add some random wiggle\n",
    "        y_center = center + random.uniform(-wiggle, wiggle)\n",
    "        \n",
    "        # Draw a small \"blob\" around (x, y_center)\n",
    "        # stroke//2 is the half-thickness around the center\n",
    "        draw.rectangle(\n",
    "            [\n",
    "                (x - stroke//2, y_center - stroke//2),\n",
    "                (x + stroke//2, y_center + stroke//2)\n",
    "            ],\n",
    "            fill=255\n",
    "        )\n",
    "    \n",
    "    # Random rotation\n",
    "    rotation = random.uniform(*rotation_range)\n",
    "    if rotation != 0:\n",
    "        img = img.rotate(rotation, resample=Image.BILINEAR, center=(center, center))\n",
    "    \n",
    "    return np.array(img, dtype=np.uint8)\n",
    "\n",
    "# Number of samples to generate per symbol\n",
    "num_samples = 30000\n",
    "\n",
    "# Generate raw samples for plus and minus with random rotations\n",
    "plus_images = []\n",
    "minus_images = []\n",
    "\n",
    "for _ in range(num_samples):\n",
    "    # Random rotation between -15 and 15 degrees\n",
    "    plus_images.append(generate_plus_image())\n",
    "    \n",
    "    # Random rotation between -15 and 15 degrees\n",
    "    minus_images.append(generate_minus_image())\n",
    "\n",
    "# Display a sample grid (just to verify visually)\n",
    "plt.figure(figsize=(10, 4))\n",
    "for i in range(10):\n",
    "    plt.subplot(2, 10, i+1)\n",
    "    plt.imshow(plus_images[i], cmap='gray')\n",
    "    plt.title(\"+\")\n",
    "    plt.axis('off')\n",
    "    \n",
    "    plt.subplot(2, 10, i+11)\n",
    "    plt.imshow(minus_images[i], cmap='gray')\n",
    "    plt.title(\"-\")\n",
    "    plt.axis('off')\n",
    "plt.suptitle(\"Sample '+' and '-' Images with Rotation\")\n",
    "plt.show()\n",
    "\n",
    "# Convert images to NumPy arrays\n",
    "X_plus = np.array(plus_images, dtype=np.uint8)\n",
    "X_minus = np.array(minus_images, dtype=np.uint8)\n",
    "\n",
    "# Create labels (using \"+\" and \"-\" as labels instead of 10 and 11)\n",
    "y_plus = np.array([\"10\"] * num_samples, dtype=np.int64)\n",
    "y_minus = np.array([\"11\"] * num_samples, dtype=np.int64)\n",
    "\n",
    "# Combine plus/minus data\n",
    "X_custom = np.vstack([X_plus, X_minus])\n",
    "y_custom = np.concatenate([y_plus, y_minus])\n",
    "\n",
    "# Reshape to match MNIST format: (samples, 28, 28, 1)\n",
    "X_custom = X_custom.reshape(-1, 28, 28, 1)\n",
    "\n",
    "print(\"Custom dataset shape:\", X_custom.shape)\n",
    "print(\"Custom labels shape:\", y_custom.shape)\n"
   ]
  },
  {
   "cell_type": "markdown",
   "metadata": {},
   "source": [
    "### Split custom data to match MNIST training/validation split"
   ]
  },
  {
   "cell_type": "code",
   "execution_count": 4,
   "metadata": {},
   "outputs": [
    {
     "name": "stdout",
     "output_type": "stream",
     "text": [
      "Custom Train Shape: (48600, 28, 28, 1)\n",
      "Custom Val Shape: (5400, 28, 28, 1)\n",
      "Custom Test Shape: (6000, 28, 28, 1)\n"
     ]
    }
   ],
   "source": [
    "from sklearn.model_selection import train_test_split\n",
    "\n",
    "# First, split off 10% for test.\n",
    "X_custom_train_val, X_custom_test, y_custom_train_val, y_custom_test = train_test_split(\n",
    "    X_custom, y_custom, test_size=0.1, random_state=42)\n",
    "\n",
    "# of the new train set we split 90% training, 10% validation\n",
    "X_custom_train, X_custom_val, y_custom_train, y_custom_val = train_test_split(\n",
    "    X_custom_train_val, y_custom_train_val, test_size=0.1, random_state=42)\n",
    "\n",
    "print(\"Custom Train Shape:\", X_custom_train.shape)\n",
    "print(\"Custom Val Shape:\", X_custom_val.shape)\n",
    "print(\"Custom Test Shape:\", X_custom_test.shape)\n"
   ]
  },
  {
   "cell_type": "markdown",
   "metadata": {},
   "source": [
    "### convert each split into a tf.data.Dataset"
   ]
  },
  {
   "cell_type": "code",
   "execution_count": 5,
   "metadata": {},
   "outputs": [],
   "source": [
    "ds_custom_train = tf.data.Dataset.from_tensor_slices((X_custom_train, y_custom_train))\n",
    "ds_custom_val   = tf.data.Dataset.from_tensor_slices((X_custom_val,   y_custom_val))\n",
    "ds_custom_test  = tf.data.Dataset.from_tensor_slices((X_custom_test,  y_custom_test))\n",
    "\n",
    "# These are also unbatched: each element is shape [28,28,1], label is a scalar\n"
   ]
  },
  {
   "cell_type": "code",
   "execution_count": 6,
   "metadata": {},
   "outputs": [],
   "source": [
    "from tensorflow.keras.models import Sequential\n",
    "from tensorflow.keras.layers import RandomRotation, RandomZoom, RandomTranslation\n",
    "\n",
    "\n",
    "# Define data augmentation model\n",
    "data_augmentation = Sequential([\n",
    "    RandomRotation(0.01),\n",
    "    RandomZoom(0.1),\n",
    "    RandomTranslation(height_factor=0.2, width_factor=0.2),\n",
    "])\n"
   ]
  },
  {
   "cell_type": "code",
   "execution_count": 7,
   "metadata": {},
   "outputs": [],
   "source": [
    "def normalize_img(image, label):\n",
    "    \"\"\"Normalizes images: uint8 -> float32 in [0..1].\"\"\"\n",
    "    return tf.cast(image, tf.float32) / 255.0, label\n",
    "\n",
    "\n",
    "def preprocess_dataset(ds, training=False):\n",
    "    # 1) Normalize\n",
    "    ds = ds.map(normalize_img, num_parallel_calls=tf.data.AUTOTUNE)\n",
    "    \n",
    "    # 2) Augment if training\n",
    "    if training:\n",
    "        ds = ds.map(lambda x, y: (data_augmentation(x, training=True), y),\n",
    "                    num_parallel_calls=tf.data.AUTOTUNE)\n",
    "    \n",
    "    # 3) Shuffle if training\n",
    "    if training:\n",
    "        ds = ds.shuffle(10000)\n",
    "    \n",
    "    # 4) Batch & Prefetch\n",
    "    ds = ds.batch(128)\n",
    "    ds = ds.prefetch(tf.data.AUTOTUNE)\n",
    "    \n",
    "    return ds"
   ]
  },
  {
   "cell_type": "code",
   "execution_count": 8,
   "metadata": {},
   "outputs": [
    {
     "data": {
      "image/png": "[encoded data removed]",
      "text/plain": [
       "<Figure size 1200x500 with 16 Axes>"
      ]
     },
     "metadata": {},
     "output_type": "display_data"
    }
   ],
   "source": [
    "# Suppose ds_custom_train is already unbatched:\n",
    "#  1) Take 16 examples\n",
    "ds_debug = ds_custom_train.take(16)\n",
    "\n",
    "#  2) Apply the same transformations you do in training\n",
    "ds_debug = ds_debug.map(normalize_img, num_parallel_calls=tf.data.AUTOTUNE)\n",
    "ds_debug = ds_debug.map(\n",
    "    lambda x, y: (data_augmentation(x, training=True), y),\n",
    "    num_parallel_calls=tf.data.AUTOTUNE\n",
    ")\n",
    "\n",
    "#  3) Batch them together so we can fetch them in one go\n",
    "ds_debug = ds_debug.batch(16)\n",
    "\n",
    "#  4) Grab that single batch and plot\n",
    "for images, labels in ds_debug.take(1):\n",
    "    plt.figure(figsize=(12, 5))\n",
    "    for i in range(images.shape[0]):\n",
    "        ax = plt.subplot(2, 8, i + 1)\n",
    "        # Convert the Tensor to NumPy and remove the single color channel\n",
    "        plt.imshow(images[i].numpy().squeeze(), cmap='gray')\n",
    "        # Decode the label if it's a byte string\n",
    "        label_value = labels[i].numpy()\n",
    "        if isinstance(label_value, bytes):\n",
    "            label_value = label_value.decode('utf-8')\n",
    "        plt.title(f\"Label: {label_value}\")\n",
    "        plt.axis(\"off\")\n",
    "    plt.suptitle(\"Augmented +/− Samples\")\n",
    "    plt.show()\n"
   ]
  },
  {
   "cell_type": "code",
   "execution_count": 9,
   "metadata": {},
   "outputs": [
    {
     "name": "stderr",
     "output_type": "stream",
     "text": [
      "2025-03-20 12:28:39.933935: W tensorflow/core/kernels/data/cache_dataset_ops.cc:858] The calling iterator did not fully read the dataset being cached. In order to avoid unexpected truncation of the dataset, the partially cached contents of the dataset  will be discarded. This can happen if you have an input pipeline similar to `dataset.cache().take(k).repeat()`. You should use `dataset.take(k).cache().repeat()` instead.\n"
     ]
    },
    {
     "data": {
      "image/png": "[encoded data removed]",
      "text/plain": [
       "<Figure size 1200x500 with 16 Axes>"
      ]
     },
     "metadata": {},
     "output_type": "display_data"
    }
   ],
   "source": [
    "#  1) Take 16 examples\n",
    "ds_debug = ds_train.take(16)\n",
    "\n",
    "#  2) Apply the same transformations you do in training\n",
    "ds_debug = ds_debug.map(normalize_img, num_parallel_calls=tf.data.AUTOTUNE)\n",
    "ds_debug = ds_debug.map(\n",
    "    lambda x, y: (data_augmentation(x, training=True), y),\n",
    "    num_parallel_calls=tf.data.AUTOTUNE\n",
    ")\n",
    "\n",
    "#  3) Batch them together so we can fetch them in one go\n",
    "ds_debug = ds_debug.batch(16)\n",
    "\n",
    "#  4) Grab that single batch and plot\n",
    "for images, labels in ds_debug.take(1):\n",
    "    plt.figure(figsize=(12, 5))\n",
    "    for i in range(images.shape[0]):\n",
    "        ax = plt.subplot(2, 8, i + 1)\n",
    "        # Convert the Tensor to NumPy and remove the single color channel\n",
    "        plt.imshow(images[i].numpy().squeeze(), cmap='gray')\n",
    "        plt.title(f\"Label: {labels[i].numpy()}\")\n",
    "        plt.axis(\"off\")\n",
    "    plt.suptitle(\"Augmented +/− Samples\")\n",
    "    plt.show()\n"
   ]
  },
  {
   "cell_type": "code",
   "execution_count": 10,
   "metadata": {},
   "outputs": [],
   "source": [
    "# Combine training sets\n",
    "ds_train_combined = ds_train.concatenate(ds_custom_train)\n",
    "ds_train_combined = ds_train_combined.shuffle(10000)  # reshuffle after concatenation\n",
    "\n",
    "# Combine validation sets\n",
    "ds_val_combined = ds_val.concatenate(ds_custom_val)\n",
    "\n",
    "# Combine test sets\n",
    "ds_test_combined = ds_test.concatenate(ds_custom_test)\n"
   ]
  },
  {
   "cell_type": "markdown",
   "metadata": {},
   "source": [
    "### Normilize both datasets"
   ]
  },
  {
   "cell_type": "code",
   "execution_count": 11,
   "metadata": {},
   "outputs": [],
   "source": [
    "# Apply to combined datasets\n",
    "ds_train_combined = preprocess_dataset(ds_train_combined, training=True)\n",
    "ds_val_combined   = preprocess_dataset(ds_val_combined,   training=False)\n",
    "ds_test_combined  = preprocess_dataset(ds_test_combined,  training=False)"
   ]
  },
  {
   "cell_type": "markdown",
   "metadata": {},
   "source": [
    "### Build a training and an evaluation pipeline"
   ]
  },
  {
   "cell_type": "markdown",
   "metadata": {},
   "source": [
    "### Create and train the model"
   ]
  },
  {
   "cell_type": "code",
   "execution_count": 12,
   "metadata": {},
   "outputs": [
    {
     "name": "stderr",
     "output_type": "stream",
     "text": [
      "WARNING:absl:At this time, the v2.11+ optimizer `tf.keras.optimizers.Adam` runs slowly on M1/M2 Macs, please use the legacy Keras optimizer instead, located at `tf.keras.optimizers.legacy.Adam`.\n"
     ]
    },
    {
     "name": "stdout",
     "output_type": "stream",
     "text": [
      "Epoch 1/20\n",
      "802/802 [==============================] - 17s 19ms/step - loss: 0.4021 - sparse_categorical_accuracy: 0.8735 - val_loss: 0.2085 - val_sparse_categorical_accuracy: 0.9395\n",
      "Epoch 2/20\n",
      "802/802 [==============================] - 17s 21ms/step - loss: 0.1362 - sparse_categorical_accuracy: 0.9591 - val_loss: 0.0917 - val_sparse_categorical_accuracy: 0.9745\n",
      "Epoch 3/20\n",
      "802/802 [==============================] - 17s 21ms/step - loss: 0.0954 - sparse_categorical_accuracy: 0.9706 - val_loss: 0.0621 - val_sparse_categorical_accuracy: 0.9801\n",
      "Epoch 4/20\n",
      "802/802 [==============================] - 18s 22ms/step - loss: 0.0756 - sparse_categorical_accuracy: 0.9773 - val_loss: 0.0520 - val_sparse_categorical_accuracy: 0.9843\n",
      "Epoch 5/20\n",
      "802/802 [==============================] - 18s 21ms/step - loss: 0.0634 - sparse_categorical_accuracy: 0.9801 - val_loss: 0.0466 - val_sparse_categorical_accuracy: 0.9853\n",
      "Epoch 6/20\n",
      "802/802 [==============================] - 18s 22ms/step - loss: 0.0562 - sparse_categorical_accuracy: 0.9826 - val_loss: 0.0521 - val_sparse_categorical_accuracy: 0.9831\n",
      "Epoch 7/20\n",
      "802/802 [==============================] - 18s 22ms/step - loss: 0.0505 - sparse_categorical_accuracy: 0.9843 - val_loss: 0.0407 - val_sparse_categorical_accuracy: 0.9884\n",
      "Epoch 8/20\n",
      "802/802 [==============================] - 17s 21ms/step - loss: 0.0452 - sparse_categorical_accuracy: 0.9858 - val_loss: 0.0356 - val_sparse_categorical_accuracy: 0.9896\n",
      "Epoch 9/20\n",
      "802/802 [==============================] - 18s 21ms/step - loss: 0.0406 - sparse_categorical_accuracy: 0.9875 - val_loss: 0.0319 - val_sparse_categorical_accuracy: 0.9908\n",
      "Epoch 10/20\n",
      "802/802 [==============================] - 18s 22ms/step - loss: 0.0380 - sparse_categorical_accuracy: 0.9887 - val_loss: 0.0352 - val_sparse_categorical_accuracy: 0.9892\n",
      "Epoch 11/20\n",
      "802/802 [==============================] - 18s 22ms/step - loss: 0.0362 - sparse_categorical_accuracy: 0.9887 - val_loss: 0.0353 - val_sparse_categorical_accuracy: 0.9887\n",
      "Epoch 12/20\n",
      "802/802 [==============================] - 18s 22ms/step - loss: 0.0345 - sparse_categorical_accuracy: 0.9893 - val_loss: 0.0421 - val_sparse_categorical_accuracy: 0.9871\n",
      "Epoch 13/20\n",
      "802/802 [==============================] - 18s 22ms/step - loss: 0.0335 - sparse_categorical_accuracy: 0.9897 - val_loss: 0.0394 - val_sparse_categorical_accuracy: 0.9888\n",
      "Epoch 14/20\n",
      "802/802 [==============================] - 18s 22ms/step - loss: 0.0294 - sparse_categorical_accuracy: 0.9909 - val_loss: 0.0242 - val_sparse_categorical_accuracy: 0.9925\n",
      "Epoch 15/20\n",
      "802/802 [==============================] - 18s 22ms/step - loss: 0.0288 - sparse_categorical_accuracy: 0.9915 - val_loss: 0.0270 - val_sparse_categorical_accuracy: 0.9922\n",
      "Epoch 16/20\n",
      "802/802 [==============================] - 18s 22ms/step - loss: 0.0268 - sparse_categorical_accuracy: 0.9921 - val_loss: 0.0243 - val_sparse_categorical_accuracy: 0.9933\n",
      "Epoch 17/20\n",
      "802/802 [==============================] - 18s 22ms/step - loss: 0.0271 - sparse_categorical_accuracy: 0.9918 - val_loss: 0.0289 - val_sparse_categorical_accuracy: 0.9918\n",
      "Epoch 18/20\n",
      "802/802 [==============================] - 18s 22ms/step - loss: 0.0264 - sparse_categorical_accuracy: 0.9922 - val_loss: 0.0248 - val_sparse_categorical_accuracy: 0.9932\n",
      "Epoch 19/20\n",
      "802/802 [==============================] - 18s 22ms/step - loss: 0.0245 - sparse_categorical_accuracy: 0.9923 - val_loss: 0.0255 - val_sparse_categorical_accuracy: 0.9926\n",
      "Epoch 20/20\n",
      "802/802 [==============================] - 18s 22ms/step - loss: 0.0240 - sparse_categorical_accuracy: 0.9924 - val_loss: 0.0236 - val_sparse_categorical_accuracy: 0.9933\n"
     ]
    },
    {
     "data": {
      "text/plain": [
       "<keras.src.callbacks.History at 0x355cc7ee0>"
      ]
     },
     "execution_count": 12,
     "metadata": {},
     "output_type": "execute_result"
    }
   ],
   "source": [
    "import tensorflow as tf\n",
    "from tensorflow.keras.models import Sequential\n",
    "from tensorflow.keras.layers import (\n",
    "    Conv2D, MaxPooling2D, Flatten, Dense,\n",
    "    RandomRotation, RandomZoom, RandomTranslation\n",
    ")\n",
    "\n",
    "\n",
    "\n",
    "# Now create your model\n",
    "model = tf.keras.models.Sequential([\n",
    "    tf.keras.layers.Reshape((28, 28, 1), input_shape=(28, 28)),\n",
    "    tf.keras.layers.Conv2D(32, (3, 3), activation='relu'),\n",
    "    tf.keras.layers.MaxPooling2D((2, 2)),\n",
    "    tf.keras.layers.Conv2D(64, (3, 3), activation='relu'),\n",
    "    tf.keras.layers.MaxPooling2D((2, 2)),\n",
    "    tf.keras.layers.Flatten(),\n",
    "    tf.keras.layers.Dense(128, activation='relu'),\n",
    "    tf.keras.layers.Dense(12)\n",
    "])\n",
    "\n",
    "\n",
    "model.compile(\n",
    "    optimizer=tf.keras.optimizers.Adam(0.001),\n",
    "    loss=tf.keras.losses.SparseCategoricalCrossentropy(from_logits=True),\n",
    "    metrics=[tf.keras.metrics.SparseCategoricalAccuracy()]\n",
    ")\n",
    "\n",
    "model.fit(\n",
    "    ds_train_combined,\n",
    "    epochs=20,\n",
    "    validation_data=ds_val_combined,\n",
    ")\n"
   ]
  },
  {
   "cell_type": "code",
   "execution_count": 13,
   "metadata": {},
   "outputs": [
    {
     "name": "stdout",
     "output_type": "stream",
     "text": [
      "802/802 [==============================] - 7s 8ms/step - loss: 0.0225 - sparse_categorical_accuracy: 0.9932\n",
      "125/125 [==============================] - 1s 8ms/step - loss: 0.0254 - sparse_categorical_accuracy: 0.9919\n"
     ]
    }
   ],
   "source": [
    "# Evaluate on val set\n",
    "train_loss, train_acc = model.evaluate(ds_train_combined, verbose=1)\n",
    "\n",
    "# Evaluate on test set\n",
    "test_loss, test_acc = model.evaluate(ds_test_combined, verbose=1)\n",
    "\n"
   ]
  },
  {
   "cell_type": "code",
   "execution_count": 14,
   "metadata": {},
   "outputs": [],
   "source": [
    "import tensorflow as tf\n",
    "\n",
    "model.save(\"../joblib/cnn_model_aug.keras\")"
   ]
  },
  {
   "cell_type": "code",
   "execution_count": 15,
   "metadata": {},
   "outputs": [
    {
     "name": "stdout",
     "output_type": "stream",
     "text": [
      "125/125 [==============================] - 1s 7ms/step\n",
      "Class 0:\n",
      "  Precision: 0.9938\n",
      "  Recall:    0.9888\n",
      "  F1-score:  0.9913\n",
      "Class 1:\n",
      "  Precision: 0.9991\n",
      "  Recall:    0.9841\n",
      "  F1-score:  0.9916\n",
      "Class 2:\n",
      "  Precision: 0.9884\n",
      "  Recall:    0.9893\n",
      "  F1-score:  0.9889\n",
      "Class 3:\n",
      "  Precision: 0.9804\n",
      "  Recall:    0.9921\n",
      "  F1-score:  0.9862\n",
      "Class 4:\n",
      "  Precision: 0.9838\n",
      "  Recall:    0.9919\n",
      "  F1-score:  0.9878\n",
      "Class 5:\n",
      "  Precision: 0.9833\n",
      "  Recall:    0.9922\n",
      "  F1-score:  0.9877\n",
      "Class 6:\n",
      "  Precision: 0.9958\n",
      "  Recall:    0.9864\n",
      "  F1-score:  0.9911\n",
      "Class 7:\n",
      "  Precision: 0.9912\n",
      "  Recall:    0.9864\n",
      "  F1-score:  0.9888\n",
      "Class 8:\n",
      "  Precision: 0.9720\n",
      "  Recall:    0.9979\n",
      "  F1-score:  0.9848\n",
      "Class 9:\n",
      "  Precision: 0.9979\n",
      "  Recall:    0.9623\n",
      "  F1-score:  0.9798\n",
      "Class 10:\n",
      "  Precision: 0.9944\n",
      "  Recall:    1.0000\n",
      "  F1-score:  0.9972\n",
      "Class 11:\n",
      "  Precision: 1.0000\n",
      "  Recall:    1.0000\n",
      "  F1-score:  1.0000\n",
      "\n",
      "Overall Accuracy: 0.9919\n"
     ]
    }
   ],
   "source": [
    "# 1. Get Predictions from the combined test dataset\n",
    "y_pred_prob = model.predict(ds_test_combined)  # predicted probabilities\n",
    "y_pred = tf.argmax(y_pred_prob, axis=1)  # predicted class labels\n",
    "\n",
    "# 2. Get True Labels from the combined test dataset\n",
    "y_true = tf.concat([y for _, y in ds_test_combined], axis=0)\n",
    "\n",
    "# 3. Compute Precision, Recall, and F1-score for each class\n",
    "num_classes = tf.reduce_max(y_true).numpy() + 1\n",
    "\n",
    "for class_id in range(num_classes):\n",
    "    # Create binary indicators for the current class\n",
    "    true_binary = tf.cast(tf.equal(y_true, class_id), 'float32')\n",
    "    pred_binary = tf.cast(tf.equal(y_pred, class_id), 'float32')\n",
    "    \n",
    "    # Initialize metrics for the current class\n",
    "    precision_metric = tf.keras.metrics.Precision()\n",
    "    recall_metric = tf.keras.metrics.Recall()\n",
    "    \n",
    "    # Update state with the binary labels\n",
    "    precision_metric.update_state(true_binary, pred_binary)\n",
    "    recall_metric.update_state(true_binary, pred_binary)\n",
    "    \n",
    "    # Retrieve metric values\n",
    "    precision_value = precision_metric.result().numpy()\n",
    "    recall_value = recall_metric.result().numpy()\n",
    "    \n",
    "    # Compute F1-score manually (avoiding division by zero)\n",
    "    f1_value = 2 * (precision_value * recall_value) / (precision_value + recall_value + 1e-7)\n",
    "    \n",
    "    print(f\"Class {class_id}:\")\n",
    "    print(f\"  Precision: {precision_value:.4f}\")\n",
    "    print(f\"  Recall:    {recall_value:.4f}\")\n",
    "    print(f\"  F1-score:  {f1_value:.4f}\")\n",
    "\n",
    "# 4. Compute Overall Accuracy\n",
    "accuracy = tf.keras.metrics.Accuracy()\n",
    "accuracy.update_state(y_true, y_pred)\n",
    "print(f\"\\nOverall Accuracy: {accuracy.result().numpy():.4f}\")\n"
   ]
  },
  {
   "cell_type": "code",
   "execution_count": null,
   "metadata": {},
   "outputs": [],
   "source": []
  },
  {
   "cell_type": "code",
   "execution_count": null,
   "metadata": {},
   "outputs": [],
   "source": []
  },
  {
   "cell_type": "code",
   "execution_count": null,
   "metadata": {},
   "outputs": [],
   "source": []
  },
  {
   "cell_type": "code",
   "execution_count": null,
   "metadata": {},
   "outputs": [],
   "source": []
  }
 ],
 "metadata": {
  "kernelspec": {
   "display_name": ".venv",
   "language": "python",
   "name": "python3"
  },
  "language_info": {
   "codemirror_mode": {
    "name": "ipython",
    "version": 3
   },
   "file_extension": ".py",
   "mimetype": "text/x-python",
   "name": "python",
   "nbconvert_exporter": "python",
   "pygments_lexer": "ipython3",
   "version": "3.9.6"
  }
 },
 "nbformat": 4,
 "nbformat_minor": 2
}
