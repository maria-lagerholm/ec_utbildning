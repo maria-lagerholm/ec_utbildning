{
 "cells": [
  {
   "cell_type": "code",
   "execution_count": 51,
   "metadata": {},
   "outputs": [],
   "source": [
    "import tensorflow as tf\n",
    "import tensorflow_datasets as tfds\n",
    "import joblib\n",
    "\n",
    "#https://www.tensorflow.org/datasets/keras_example"
   ]
  },
  {
   "cell_type": "markdown",
   "metadata": {},
   "source": [
    "### Load a dataset"
   ]
  },
  {
   "cell_type": "code",
   "execution_count": 52,
   "metadata": {},
   "outputs": [],
   "source": [
    "(ds_train, ds_val, ds_test), ds_info = tfds.load(\n",
    "    'mnist',\n",
    "    split=['train[:85%]', 'train[85%:]', 'test'],\n",
    "    shuffle_files=True,\n",
    "    as_supervised=True,\n",
    "    with_info=True,\n",
    ")\n"
   ]
  },
  {
   "cell_type": "markdown",
   "metadata": {},
   "source": [
    "### Build a training and an evaluation pipeline"
   ]
  },
  {
   "cell_type": "code",
   "execution_count": 53,
   "metadata": {},
   "outputs": [],
   "source": [
    "def normalize_img(image, label):\n",
    "    \"\"\"Normalizes images: `uint8` -> `float32`.\"\"\"\n",
    "    return tf.cast(image, tf.float32) / 255.0, label\n",
    "\n",
    "# Preprocess Training Data\n",
    "ds_train = ds_train.map(normalize_img, num_parallel_calls=tf.data.AUTOTUNE)\n",
    "ds_train = ds_train.cache()\n",
    "ds_train = ds_train.shuffle(int(ds_info.splits['train'].num_examples * 0.85))  # Only shuffle training data\n",
    "ds_train = ds_train.batch(128)\n",
    "ds_train = ds_train.prefetch(tf.data.AUTOTUNE)\n",
    "\n",
    "# Preprocess Validation Data (No shuffle needed)\n",
    "ds_val = ds_val.map(normalize_img, num_parallel_calls=tf.data.AUTOTUNE)\n",
    "ds_val = ds_val.batch(128)\n",
    "ds_val = ds_val.prefetch(tf.data.AUTOTUNE)\n",
    "\n",
    "# Preprocess Test Data (No shuffle needed)\n",
    "ds_test = ds_test.map(normalize_img, num_parallel_calls=tf.data.AUTOTUNE)\n",
    "ds_test = ds_test.batch(128)\n",
    "ds_test = ds_test.prefetch(tf.data.AUTOTUNE)\n"
   ]
  },
  {
   "cell_type": "markdown",
   "metadata": {},
   "source": [
    "### Create and train the model"
   ]
  },
  {
   "cell_type": "code",
   "execution_count": 57,
   "metadata": {},
   "outputs": [
    {
     "name": "stdout",
     "output_type": "stream",
     "text": [
      "Epoch 1/20\n"
     ]
    },
    {
     "name": "stderr",
     "output_type": "stream",
     "text": [
      "/Users/mariiakokina/Downloads/py39env/lib/python3.9/site-packages/keras/src/layers/reshaping/reshape.py:39: UserWarning: Do not pass an `input_shape`/`input_dim` argument to a layer. When using Sequential models, prefer using an `Input(shape)` object as the first layer in the model instead.\n",
      "  super().__init__(**kwargs)\n"
     ]
    },
    {
     "name": "stdout",
     "output_type": "stream",
     "text": [
      "\u001b[1m399/399\u001b[0m \u001b[32m━━━━━━━━━━━━━━━━━━━━\u001b[0m\u001b[37m\u001b[0m \u001b[1m8s\u001b[0m 17ms/step - loss: 0.5165 - sparse_categorical_accuracy: 0.8515 - val_loss: 0.0904 - val_sparse_categorical_accuracy: 0.9727\n",
      "Epoch 2/20\n",
      "\u001b[1m399/399\u001b[0m \u001b[32m━━━━━━━━━━━━━━━━━━━━\u001b[0m\u001b[37m\u001b[0m \u001b[1m6s\u001b[0m 16ms/step - loss: 0.0698 - sparse_categorical_accuracy: 0.9783 - val_loss: 0.0715 - val_sparse_categorical_accuracy: 0.9782\n",
      "Epoch 3/20\n",
      "\u001b[1m399/399\u001b[0m \u001b[32m━━━━━━━━━━━━━━━━━━━━\u001b[0m\u001b[37m\u001b[0m \u001b[1m6s\u001b[0m 16ms/step - loss: 0.0454 - sparse_categorical_accuracy: 0.9864 - val_loss: 0.0485 - val_sparse_categorical_accuracy: 0.9848\n",
      "Epoch 4/20\n",
      "\u001b[1m399/399\u001b[0m \u001b[32m━━━━━━━━━━━━━━━━━━━━\u001b[0m\u001b[37m\u001b[0m \u001b[1m6s\u001b[0m 16ms/step - loss: 0.0324 - sparse_categorical_accuracy: 0.9900 - val_loss: 0.0421 - val_sparse_categorical_accuracy: 0.9876\n",
      "Epoch 5/20\n",
      "\u001b[1m399/399\u001b[0m \u001b[32m━━━━━━━━━━━━━━━━━━━━\u001b[0m\u001b[37m\u001b[0m \u001b[1m6s\u001b[0m 15ms/step - loss: 0.0257 - sparse_categorical_accuracy: 0.9923 - val_loss: 0.0519 - val_sparse_categorical_accuracy: 0.9842\n",
      "Epoch 6/20\n",
      "\u001b[1m399/399\u001b[0m \u001b[32m━━━━━━━━━━━━━━━━━━━━\u001b[0m\u001b[37m\u001b[0m \u001b[1m6s\u001b[0m 15ms/step - loss: 0.0207 - sparse_categorical_accuracy: 0.9934 - val_loss: 0.0408 - val_sparse_categorical_accuracy: 0.9882\n",
      "Epoch 7/20\n",
      "\u001b[1m399/399\u001b[0m \u001b[32m━━━━━━━━━━━━━━━━━━━━\u001b[0m\u001b[37m\u001b[0m \u001b[1m6s\u001b[0m 15ms/step - loss: 0.0153 - sparse_categorical_accuracy: 0.9950 - val_loss: 0.0423 - val_sparse_categorical_accuracy: 0.9876\n",
      "Epoch 8/20\n",
      "\u001b[1m399/399\u001b[0m \u001b[32m━━━━━━━━━━━━━━━━━━━━\u001b[0m\u001b[37m\u001b[0m \u001b[1m6s\u001b[0m 15ms/step - loss: 0.0121 - sparse_categorical_accuracy: 0.9959 - val_loss: 0.0430 - val_sparse_categorical_accuracy: 0.9869\n",
      "Epoch 9/20\n",
      "\u001b[1m399/399\u001b[0m \u001b[32m━━━━━━━━━━━━━━━━━━━━\u001b[0m\u001b[37m\u001b[0m \u001b[1m6s\u001b[0m 16ms/step - loss: 0.0105 - sparse_categorical_accuracy: 0.9966 - val_loss: 0.0431 - val_sparse_categorical_accuracy: 0.9868\n",
      "Epoch 10/20\n",
      "\u001b[1m399/399\u001b[0m \u001b[32m━━━━━━━━━━━━━━━━━━━━\u001b[0m\u001b[37m\u001b[0m \u001b[1m6s\u001b[0m 16ms/step - loss: 0.0106 - sparse_categorical_accuracy: 0.9962 - val_loss: 0.0465 - val_sparse_categorical_accuracy: 0.9882\n",
      "Epoch 11/20\n",
      "\u001b[1m399/399\u001b[0m \u001b[32m━━━━━━━━━━━━━━━━━━━━\u001b[0m\u001b[37m\u001b[0m \u001b[1m6s\u001b[0m 16ms/step - loss: 0.0085 - sparse_categorical_accuracy: 0.9974 - val_loss: 0.0434 - val_sparse_categorical_accuracy: 0.9888\n",
      "Epoch 12/20\n",
      "\u001b[1m399/399\u001b[0m \u001b[32m━━━━━━━━━━━━━━━━━━━━\u001b[0m\u001b[37m\u001b[0m \u001b[1m6s\u001b[0m 16ms/step - loss: 0.0079 - sparse_categorical_accuracy: 0.9970 - val_loss: 0.0544 - val_sparse_categorical_accuracy: 0.9851\n",
      "Epoch 13/20\n",
      "\u001b[1m399/399\u001b[0m \u001b[32m━━━━━━━━━━━━━━━━━━━━\u001b[0m\u001b[37m\u001b[0m \u001b[1m6s\u001b[0m 16ms/step - loss: 0.0077 - sparse_categorical_accuracy: 0.9972 - val_loss: 0.0434 - val_sparse_categorical_accuracy: 0.9890\n",
      "Epoch 14/20\n",
      "\u001b[1m399/399\u001b[0m \u001b[32m━━━━━━━━━━━━━━━━━━━━\u001b[0m\u001b[37m\u001b[0m \u001b[1m6s\u001b[0m 16ms/step - loss: 0.0029 - sparse_categorical_accuracy: 0.9991 - val_loss: 0.0490 - val_sparse_categorical_accuracy: 0.9890\n",
      "Epoch 15/20\n",
      "\u001b[1m399/399\u001b[0m \u001b[32m━━━━━━━━━━━━━━━━━━━━\u001b[0m\u001b[37m\u001b[0m \u001b[1m6s\u001b[0m 15ms/step - loss: 0.0050 - sparse_categorical_accuracy: 0.9984 - val_loss: 0.0442 - val_sparse_categorical_accuracy: 0.9892\n",
      "Epoch 16/20\n",
      "\u001b[1m399/399\u001b[0m \u001b[32m━━━━━━━━━━━━━━━━━━━━\u001b[0m\u001b[37m\u001b[0m \u001b[1m6s\u001b[0m 16ms/step - loss: 0.0038 - sparse_categorical_accuracy: 0.9987 - val_loss: 0.0441 - val_sparse_categorical_accuracy: 0.9893\n",
      "Epoch 17/20\n",
      "\u001b[1m399/399\u001b[0m \u001b[32m━━━━━━━━━━━━━━━━━━━━\u001b[0m\u001b[37m\u001b[0m \u001b[1m6s\u001b[0m 16ms/step - loss: 0.0050 - sparse_categorical_accuracy: 0.9983 - val_loss: 0.0455 - val_sparse_categorical_accuracy: 0.9893\n",
      "Epoch 18/20\n",
      "\u001b[1m399/399\u001b[0m \u001b[32m━━━━━━━━━━━━━━━━━━━━\u001b[0m\u001b[37m\u001b[0m \u001b[1m7s\u001b[0m 17ms/step - loss: 0.0026 - sparse_categorical_accuracy: 0.9992 - val_loss: 0.0579 - val_sparse_categorical_accuracy: 0.9863\n",
      "Epoch 19/20\n",
      "\u001b[1m399/399\u001b[0m \u001b[32m━━━━━━━━━━━━━━━━━━━━\u001b[0m\u001b[37m\u001b[0m \u001b[1m6s\u001b[0m 16ms/step - loss: 0.0046 - sparse_categorical_accuracy: 0.9986 - val_loss: 0.0430 - val_sparse_categorical_accuracy: 0.9904\n",
      "Epoch 20/20\n",
      "\u001b[1m399/399\u001b[0m \u001b[32m━━━━━━━━━━━━━━━━━━━━\u001b[0m\u001b[37m\u001b[0m \u001b[1m6s\u001b[0m 16ms/step - loss: 0.0019 - sparse_categorical_accuracy: 0.9995 - val_loss: 0.0424 - val_sparse_categorical_accuracy: 0.9898\n"
     ]
    },
    {
     "data": {
      "text/plain": [
       "<keras.src.callbacks.history.History at 0x31f3b7820>"
      ]
     },
     "execution_count": 57,
     "metadata": {},
     "output_type": "execute_result"
    }
   ],
   "source": [
    "\n",
    "model = tf.keras.models.Sequential([\n",
    "    tf.keras.layers.Reshape((28, 28, 1), input_shape=(28, 28)),  # ensure channel dimension\n",
    "    tf.keras.layers.Conv2D(32, (3, 3), activation='relu'),\n",
    "    tf.keras.layers.MaxPooling2D((2, 2)),\n",
    "    tf.keras.layers.Conv2D(64, (3, 3), activation='relu'),\n",
    "    tf.keras.layers.MaxPooling2D((2, 2)),\n",
    "    tf.keras.layers.Flatten(),\n",
    "    tf.keras.layers.Dense(128, activation='relu'),\n",
    "    tf.keras.layers.Dense(10)  # from_logits = True in your loss\n",
    "])\n",
    "\n",
    "model.compile(\n",
    "    optimizer=tf.keras.optimizers.Adam(0.001),\n",
    "    loss=tf.keras.losses.SparseCategoricalCrossentropy(from_logits=True),\n",
    "    metrics=[tf.keras.metrics.SparseCategoricalAccuracy()],\n",
    ")\n",
    "\n",
    "model.fit(\n",
    "    ds_train,\n",
    "    epochs=20,\n",
    "    validation_data=ds_val,\n",
    ")"
   ]
  },
  {
   "cell_type": "code",
   "execution_count": 58,
   "metadata": {},
   "outputs": [
    {
     "name": "stdout",
     "output_type": "stream",
     "text": [
      "\u001b[1m399/399\u001b[0m \u001b[32m━━━━━━━━━━━━━━━━━━━━\u001b[0m\u001b[37m\u001b[0m \u001b[1m2s\u001b[0m 6ms/step - loss: 0.0031 - sparse_categorical_accuracy: 0.9990\n",
      "\u001b[1m79/79\u001b[0m \u001b[32m━━━━━━━━━━━━━━━━━━━━\u001b[0m\u001b[37m\u001b[0m \u001b[1m0s\u001b[0m 6ms/step - loss: 0.0299 - sparse_categorical_accuracy: 0.9899\n"
     ]
    }
   ],
   "source": [
    "# Evaluate on val set\n",
    "train_loss, train_acc = model.evaluate(ds_train, verbose=1)\n",
    "\n",
    "# Evaluate on test set\n",
    "test_loss, test_acc = model.evaluate(ds_test, verbose=1)\n",
    "\n",
    "model.save(\"../joblib/cnn_model.keras\")  # Save as HDF5\n",
    "\n"
   ]
  },
  {
   "cell_type": "code",
   "execution_count": 59,
   "metadata": {},
   "outputs": [
    {
     "name": "stdout",
     "output_type": "stream",
     "text": [
      "\u001b[1m79/79\u001b[0m \u001b[32m━━━━━━━━━━━━━━━━━━━━\u001b[0m\u001b[37m\u001b[0m \u001b[1m1s\u001b[0m 6ms/step\n",
      "Class 0:\n",
      "  Precision: 0.9959\n",
      "  Recall:    0.9918\n",
      "  F1-score:  0.9939\n",
      "Class 1:\n",
      "  Precision: 0.9930\n",
      "  Recall:    0.9965\n",
      "  F1-score:  0.9947\n",
      "Class 2:\n",
      "  Precision: 0.9874\n",
      "  Recall:    0.9903\n",
      "  F1-score:  0.9889\n",
      "Class 3:\n",
      "  Precision: 0.9930\n",
      "  Recall:    0.9822\n",
      "  F1-score:  0.9876\n",
      "Class 4:\n",
      "  Precision: 0.9919\n",
      "  Recall:    0.9929\n",
      "  F1-score:  0.9924\n",
      "Class 5:\n",
      "  Precision: 0.9790\n",
      "  Recall:    0.9910\n",
      "  F1-score:  0.9850\n",
      "Class 6:\n",
      "  Precision: 0.9906\n",
      "  Recall:    0.9916\n",
      "  F1-score:  0.9911\n",
      "Class 7:\n",
      "  Precision: 0.9864\n",
      "  Recall:    0.9883\n",
      "  F1-score:  0.9874\n",
      "Class 8:\n",
      "  Precision: 0.9837\n",
      "  Recall:    0.9918\n",
      "  F1-score:  0.9877\n",
      "Class 9:\n",
      "  Precision: 0.9930\n",
      "  Recall:    0.9782\n",
      "  F1-score:  0.9855\n",
      "\n",
      "Overall Accuracy: 0.9895\n"
     ]
    }
   ],
   "source": [
    "# 1. Get Predictions\n",
    "y_pred_prob = model.predict(ds_test)  # Get predicted probabilities\n",
    "y_pred = tf.argmax(y_pred_prob, axis=1)  # Convert probabilities to class labels\n",
    "\n",
    "# 2. Get True Labels from the dataset\n",
    "y_true = tf.concat([y for _, y in ds_test], axis=0)  # Extract true labels\n",
    "\n",
    "# 3. Compute Precision, Recall, and F1-score for each class\n",
    "num_classes = tf.reduce_max(y_true).numpy() + 1  # Get number of classes\n",
    "\n",
    "for class_id in range(num_classes):\n",
    "    class_mask = tf.equal(y_true, class_id)  # Mask for current class\n",
    "    \n",
    "    precision = tf.keras.metrics.Precision()\n",
    "    recall = tf.keras.metrics.Recall()\n",
    "    \n",
    "    # Update metrics only for the current class\n",
    "    precision.update_state(class_mask, tf.equal(y_pred, class_id))\n",
    "    recall.update_state(class_mask, tf.equal(y_pred, class_id))\n",
    "    \n",
    "    # Compute F1-score manually\n",
    "    precision_value = precision.result().numpy()\n",
    "    recall_value = recall.result().numpy()\n",
    "    f1_value = 2 * ((precision_value * recall_value) / (precision_value + recall_value + 1e-7))  # Avoid division by zero\n",
    "    \n",
    "    print(f\"Class {class_id}:\")\n",
    "    print(f\"  Precision: {precision_value:.4f}\")\n",
    "    print(f\"  Recall:    {recall_value:.4f}\")\n",
    "    print(f\"  F1-score:  {f1_value:.4f}\")\n",
    "\n",
    "# 4. Compute Overall Accuracy\n",
    "accuracy = tf.keras.metrics.Accuracy()\n",
    "accuracy.update_state(y_true, y_pred)\n",
    "print(f\"\\nOverall Accuracy: {accuracy.result().numpy():.4f}\")\n"
   ]
  },
  {
   "cell_type": "code",
   "execution_count": null,
   "metadata": {},
   "outputs": [],
   "source": []
  },
  {
   "cell_type": "code",
   "execution_count": null,
   "metadata": {},
   "outputs": [],
   "source": []
  },
  {
   "cell_type": "code",
   "execution_count": 16,
   "metadata": {},
   "outputs": [
    {
     "data": {
      "text/plain": [
       "<Figure size 800x600 with 0 Axes>"
      ]
     },
     "metadata": {},
     "output_type": "display_data"
    },
    {
     "data": {
      "image/png": "[encoded data removed]",
      "text/plain": [
       "<Figure size 640x480 with 2 Axes>"
      ]
     },
     "metadata": {},
     "output_type": "display_data"
    }
   ],
   "source": [
    "\n",
    "from sklearn.metrics import confusion_matrix, ConfusionMatrixDisplay\n",
    "\n",
    "# Predict labels for the test set\n",
    "y_pred = best_model.predict(X_test_std)\n",
    "\n",
    "# Compute confusion matrix\n",
    "cm = confusion_matrix(y_test, y_pred)\n",
    "\n",
    "# Plot the confusion matrix\n",
    "plt.figure(figsize=(8, 6))\n",
    "disp = ConfusionMatrixDisplay(confusion_matrix=cm)\n",
    "disp.plot(cmap=plt.cm.Blues, values_format='d')\n",
    "plt.title(\"Confusion Matrix\")\n",
    "plt.show()\n"
   ]
  },
  {
   "cell_type": "code",
   "execution_count": null,
   "metadata": {},
   "outputs": [],
   "source": []
  }
 ],
 "metadata": {
  "kernelspec": {
   "display_name": ".venv",
   "language": "python",
   "name": "python3"
  },
  "language_info": {
   "codemirror_mode": {
    "name": "ipython",
    "version": 3
   },
   "file_extension": ".py",
   "mimetype": "text/x-python",
   "name": "python",
   "nbconvert_exporter": "python",
   "pygments_lexer": "ipython3",
   "version": "3.9.6"
  }
 },
 "nbformat": 4,
 "nbformat_minor": 2
}
